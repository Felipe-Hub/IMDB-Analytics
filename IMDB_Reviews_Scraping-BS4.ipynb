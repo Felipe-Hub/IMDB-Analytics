{
 "cells": [
  {
   "cell_type": "code",
   "execution_count": 51,
   "metadata": {},
   "outputs": [],
   "source": [
    "from bs4 import BeautifulSoup\n",
    "import requests\n",
    "\n",
    "import pandas as pd\n",
    "import random\n",
    "import math\n",
    "import time\n",
    "import json\n",
    "import re"
   ]
  },
  {
   "cell_type": "code",
   "execution_count": 52,
   "metadata": {},
   "outputs": [],
   "source": [
    "# Load previous saved datafram\n",
    "df = pd.read_csv('movie_info_df.csv')"
   ]
  },
  {
   "cell_type": "code",
   "execution_count": null,
   "metadata": {},
   "outputs": [],
   "source": [
    "reviews_dict = {'id': [], 'reviews': [], 'rating': []}\n",
    "errors = []\n",
    "c = 0\n",
    "\n",
    "for i in df['id'].unique():\n",
    "    c += 1\n",
    "    link = 'https://www.imdb.com/title/tt' + str(i) + '/reviews'\n",
    "    \n",
    "    try:\n",
    "        html = requests.get(link, headers={'user-agent': 'Mozilla/5.0'}).content\n",
    "        soup = BeautifulSoup(html, features=\"lxml\")\n",
    "        time.sleep(random.uniform(0.5,1))\n",
    "        \n",
    "        reviews = [i.get_text(' ', strip=True).replace('\\n', ' ')\n",
    "                   if soup.find_all('div', {'class':'text show-more__control'}) else None\n",
    "                   for i in soup.find_all('div', {'class':'text show-more__control'})]\n",
    "        \n",
    "        rating = [i.find('span', {'class':'rating-other-user-rating'}).get_text(' ', strip=True)[0]\n",
    "                    if i.find('span', {'class':'rating-other-user-rating'}) else None\n",
    "                    for i in soup.find_all('div', {'class':'review-container'})]\n",
    "\n",
    "        \n",
    "        reviews_dict['id'] += [i]*len(reviews)\n",
    "        reviews_dict['reviews'] += reviews\n",
    "        reviews_dict['rating'] += rating\n",
    "        \n",
    "    except:\n",
    "        errors += [link]\n",
    "        \n",
    "    # Saving after every 5000 links    \n",
    "    if c%5000 == 0:\n",
    "        print(c, 'links scraped.')\n",
    "        time.sleep(1)\n",
    "        print(\"Saving... don't quit!\")\n",
    "        \n",
    "        with open('movie_reviews_raw_1.json', 'w') as outfile:\n",
    "            json.dump(reviews_dict, outfile)\n",
    "            \n",
    "print('You got {} right and {} errors.'.format(len(reviews_dict), len(errors)))"
   ]
  },
  {
   "cell_type": "code",
   "execution_count": null,
   "metadata": {},
   "outputs": [],
   "source": [
    "# Checking order and results\n",
    "\n",
    "assert len(reviews_dict['id']) == len(reviews_dict['reviews']) == len(reviews_dict['rating'])\n",
    "\n",
    "print(\"You have scraped {} reviews of {} movies.\".format(len(reviews_dict['reviews']),\n",
    "                                                         len(df['id'].unique())-len(errors)))"
   ]
  },
  {
   "cell_type": "code",
   "execution_count": null,
   "metadata": {},
   "outputs": [],
   "source": [
    "# Turn it into a dataframe\n",
    "df = pd.DataFrame.from_dict(reviews_dict)\n",
    "\n",
    "df.head()"
   ]
  },
  {
   "cell_type": "code",
   "execution_count": null,
   "metadata": {},
   "outputs": [],
   "source": [
    "# Saving to file\n",
    "df.to_csv('reviews_df.csv')"
   ]
  },
  {
   "cell_type": "code",
   "execution_count": null,
   "metadata": {},
   "outputs": [],
   "source": [
    "with open('movie_reviews_raw_1.json', 'r') as outfile:\n",
    "           reviews_dict = json.load(outfile)"
   ]
  },
  {
   "cell_type": "code",
   "execution_count": 15,
   "metadata": {},
   "outputs": [
    {
     "name": "stdout",
     "output_type": "stream",
     "text": [
      "24363\n",
      "24363\n",
      "24364\n"
     ]
    }
   ],
   "source": [
    "for k,v in reviews_dict.items():\n",
    "    print(len(v))"
   ]
  },
  {
   "cell_type": "code",
   "execution_count": 28,
   "metadata": {},
   "outputs": [
    {
     "data": {
      "text/plain": [
       "[]"
      ]
     },
     "execution_count": 28,
     "metadata": {},
     "output_type": "execute_result"
    }
   ],
   "source": [
    "[type(i) for i in reviews_dict['rating'] if type(i) is not str and i is not None]"
   ]
  },
  {
   "cell_type": "code",
   "execution_count": 49,
   "metadata": {},
   "outputs": [
    {
     "data": {
      "text/plain": [
       "'8'"
      ]
     },
     "execution_count": 49,
     "metadata": {},
     "output_type": "execute_result"
    }
   ],
   "source": [
    "reviews_dict['rating'][0]"
   ]
  },
  {
   "cell_type": "code",
   "execution_count": 50,
   "metadata": {},
   "outputs": [
    {
     "data": {
      "text/plain": [
       "\"After watching this movie on Lifetime I have to say that this movie was very good with just a few tiny hiccups. Jamie Luner plays Sandra who suspects that her husband, Matthew is cheating on her when she begins to receive warnings through the mail and email via the computer. She starts to follow him around town, seeing him purchase a set of pearls in a jewelry store and later that day or the next he gives her a ring from the same jewelry store she decides to hire a detective couple to follow him and gain evidence of the affair. What they soon learn is that her husband is not cheating on her and she tells her husband about hiring the detectives. The detectives then start to track down the helpful citizen that sent the emails and letters through the mail. Sandra then has her hands full with an art show debuting her new works of art. The story culminates in Sandra learning that Matthew's partner, Bill has been supposedly stalking her and wants her all for himself. Small inconsistencies in the secondary story with Matthew's partner, Bill. He almost seemed to be a red herring thrown into the mix to blow up and pace and then used as a stalker at the end. The character of Bill just seemed to be tossed into the mix and was never fully fleshed out. Except for the scenes which involve his car being vandalized and popping in and out of the office I never really got a sense of who he was which left me feeling vaguely unsatisfied at the end. Jamie Lunar did a wonderful job with the character of Sandra and I enjoyed watching her interpretation of a wife and artist learning that her husband may be cheating on her and then reacting to the discovery of what her husband was really up to at the end. I believe that this movie was well worth the two hours I spent watching it on a weekend and that others will absolutely enjoy it.\""
      ]
     },
     "execution_count": 50,
     "metadata": {},
     "output_type": "execute_result"
    }
   ],
   "source": [
    "reviews_dict['reviews'][0]"
   ]
  },
  {
   "cell_type": "code",
   "execution_count": 47,
   "metadata": {},
   "outputs": [
    {
     "data": {
      "text/plain": [
       "1295093"
      ]
     },
     "execution_count": 47,
     "metadata": {},
     "output_type": "execute_result"
    }
   ],
   "source": [
    "reviews_dict['id'][0]"
   ]
  },
  {
   "cell_type": "code",
   "execution_count": null,
   "metadata": {},
   "outputs": [],
   "source": []
  }
 ],
 "metadata": {
  "kernelspec": {
   "display_name": "Python 3",
   "language": "python",
   "name": "python3"
  },
  "language_info": {
   "codemirror_mode": {
    "name": "ipython",
    "version": 3
   },
   "file_extension": ".py",
   "mimetype": "text/x-python",
   "name": "python",
   "nbconvert_exporter": "python",
   "pygments_lexer": "ipython3",
   "version": "3.7.4"
  }
 },
 "nbformat": 4,
 "nbformat_minor": 4
}
