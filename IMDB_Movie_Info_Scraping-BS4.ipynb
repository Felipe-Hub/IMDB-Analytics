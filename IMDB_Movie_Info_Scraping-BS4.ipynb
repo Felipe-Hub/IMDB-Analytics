{
 "cells": [
  {
   "cell_type": "code",
   "execution_count": 1,
   "metadata": {},
   "outputs": [],
   "source": [
    "from bs4 import BeautifulSoup\n",
    "import requests\n",
    "\n",
    "import pandas as pd\n",
    "import random\n",
    "import math\n",
    "import time\n",
    "import json\n",
    "import re"
   ]
  },
  {
   "cell_type": "code",
   "execution_count": 2,
   "metadata": {},
   "outputs": [],
   "source": [
    "with open('movie_links.json', 'r') as file:\n",
    "    movie_links = json.load(file)"
   ]
  },
  {
   "cell_type": "code",
   "execution_count": 3,
   "metadata": {
    "scrolled": true
   },
   "outputs": [
    {
     "name": "stdout",
     "output_type": "stream",
     "text": [
      "You uploaded the following amount of links for each genre:\n",
      "comedy: 10000\n",
      "sci-fi: 10000\n",
      "horror: 10000\n",
      "romance: 10000\n",
      "action: 10000\n",
      "thriller: 10000\n",
      "drama: 10000\n",
      "mystery: 10000\n",
      "crime: 10000\n",
      "animation: 10000\n",
      "adventure: 10000\n",
      "fantasy: 10000\n",
      "comedy,romance: 10000\n",
      "action,comedy: 10000\n"
     ]
    }
   ],
   "source": [
    "print('You uploaded the following amount of links for each genre:')\n",
    "\n",
    "for genre, links in movie_links.items():\n",
    "    print('{}: {}'.format(genre,len(links)))"
   ]
  },
  {
   "cell_type": "code",
   "execution_count": null,
   "metadata": {},
   "outputs": [
    {
     "name": "stdout",
     "output_type": "stream",
     "text": [
      "comedy\n"
     ]
    }
   ],
   "source": [
    "# Scraping info from each movie link using BS4\n",
    "\n",
    "all_info_dict = []\n",
    "errors = []\n",
    "\n",
    "for genre, links in movie_links.items():\n",
    "    print(genre)\n",
    "    \n",
    "    for link in links:\n",
    "        try:\n",
    "            html = requests.get(link, headers={'user-agent': 'Mozilla/5.0'}).content\n",
    "            soup = BeautifulSoup(html, features=\"lxml\")\n",
    "\n",
    "            time.sleep(random.uniform(0.5,1.2))\n",
    "\n",
    "            all_info = soup.find('script', {'type':'application/ld+json'}).text\n",
    "\n",
    "            all_info_dict += [json.loads(all_info)]\n",
    "            \n",
    "        except:\n",
    "            errors += [link]\n",
    "            \n",
    "print('You got {} right and {} errors.'.format(len(all_info_dict), len(errors)))"
   ]
  },
  {
   "cell_type": "code",
   "execution_count": null,
   "metadata": {
    "scrolled": false
   },
   "outputs": [],
   "source": [
    "# Saving to file\n",
    "with open('movie_info_raw.json', 'w') as outfile:\n",
    "    json.dump(all_info_dict, outfile)"
   ]
  },
  {
   "cell_type": "code",
   "execution_count": null,
   "metadata": {},
   "outputs": [],
   "source": [
    "# Loading saved file\n",
    "with open('movie_info_raw.json', 'r') as file:\n",
    "    all_info_dict = json.load(file)"
   ]
  },
  {
   "cell_type": "code",
   "execution_count": null,
   "metadata": {},
   "outputs": [],
   "source": [
    "# Naming dictionary keys:\n",
    "headings = list(set([i for dct in all_info_dict[::5000] for i in list(dct.keys())]))\n",
    "\n",
    "# Creating dictionary to store items:\n",
    "movie_dc = {k:[] for k in headings}\n",
    "\n",
    "# Turning list of dictionaries into one dictionary with lists as values\n",
    "for dct in all_info_dict:\n",
    "    headings = list(set(dct.keys()))\n",
    "    for key in movie_dc.keys():\n",
    "        if key in headings:\n",
    "            movie_dc[key] += [dct[key]]\n",
    "        else:\n",
    "            movie_dc[key] += [None]\n",
    "\n",
    "# Checking results \n",
    "print('Checking placement:')\n",
    "for key, values in movie_dc.items():\n",
    "    print('Found {} values for {}'.format(len(values), key))"
   ]
  },
  {
   "cell_type": "code",
   "execution_count": null,
   "metadata": {},
   "outputs": [],
   "source": [
    "# Keeping only what is needed\n",
    "\n",
    "movie_dict = {'id': [], 'title':[], 'year':[], 'type':[], 'genre':[], 'rating':[],\n",
    "              'rating_count':[], 'duration':[], 'age':[], 'keywords' : [], 'summary':[]} \n",
    "\n",
    "for val in movie_dc.values():\n",
    "    movie_dict['id'] = [i[9:-1] for i in movie_dc['url']]\n",
    "    movie_dict['title'] = movie_dc['name']\n",
    "    movie_dict['year'] = movie_dc['datePublished']\n",
    "    movie_dict['type'] = movie_dc['@type']\n",
    "    movie_dict['genre'] = movie_dc['genre']\n",
    "    movie_dict['rating'] = [movie_dc['aggregateRating'][i]['ratingValue'] \n",
    "                            for i in range(len(movie_dc['aggregateRating']))]\n",
    "    movie_dict['rating_count'] = [movie_dc['aggregateRating'][i]['ratingCount']\n",
    "                                  for i in range(len(movie_dc['aggregateRating']))]\n",
    "    movie_dict['duration'] = movie_dc['duration']\n",
    "    movie_dict['age'] = movie_dc['contentRating']\n",
    "    movie_dict['keywords'] = movie_dc['keywords']\n",
    "    movie_dict['summary'] = movie_dc['description']"
   ]
  },
  {
   "cell_type": "code",
   "execution_count": null,
   "metadata": {},
   "outputs": [],
   "source": [
    "# Turn it into a dataframe\n",
    "df = pd.DataFrame.from_dict(movie_dict)\n",
    "\n",
    "df.head()"
   ]
  },
  {
   "cell_type": "code",
   "execution_count": null,
   "metadata": {},
   "outputs": [],
   "source": [
    "# Saving to file\n",
    "df.to_csv('movie_info_df.csv')"
   ]
  }
 ],
 "metadata": {
  "kernelspec": {
   "display_name": "Python 3",
   "language": "python",
   "name": "python3"
  },
  "language_info": {
   "codemirror_mode": {
    "name": "ipython",
    "version": 3
   },
   "file_extension": ".py",
   "mimetype": "text/x-python",
   "name": "python",
   "nbconvert_exporter": "python",
   "pygments_lexer": "ipython3",
   "version": "3.7.4"
  }
 },
 "nbformat": 4,
 "nbformat_minor": 4
}
