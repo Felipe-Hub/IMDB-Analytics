{
 "cells": [
  {
   "cell_type": "code",
   "execution_count": 1,
   "metadata": {},
   "outputs": [],
   "source": [
    "from bs4 import BeautifulSoup\n",
    "import requests\n",
    "\n",
    "import pandas as pd\n",
    "import random\n",
    "import math\n",
    "import time\n",
    "import json\n",
    "import os\n",
    "import re"
   ]
  },
  {
   "cell_type": "code",
   "execution_count": 2,
   "metadata": {},
   "outputs": [],
   "source": [
    "with open('movie_links.json', 'r') as file:\n",
    "    movie_links = json.load(file)"
   ]
  },
  {
   "cell_type": "code",
   "execution_count": 3,
   "metadata": {},
   "outputs": [
    {
     "name": "stdout",
     "output_type": "stream",
     "text": [
      "You uploaded the following amount of links for each genre:\n",
      "comedy: 10000\n",
      "sci-fi: 10000\n",
      "horror: 10000\n",
      "romance: 10000\n",
      "action: 10000\n",
      "thriller: 10000\n",
      "drama: 10000\n",
      "mystery: 10000\n",
      "crime: 10000\n",
      "animation: 10000\n",
      "adventure: 10000\n",
      "fantasy: 10000\n",
      "comedy,romance: 10000\n",
      "action,comedy: 10000\n"
     ]
    }
   ],
   "source": [
    "print('You uploaded the following amount of links for each genre:')\n",
    "\n",
    "for genre, links in movie_links.items():\n",
    "    print('{}: {}'.format(genre,len(links)))"
   ]
  },
  {
   "cell_type": "code",
   "execution_count": 4,
   "metadata": {
    "scrolled": true
   },
   "outputs": [
    {
     "name": "stdout",
     "output_type": "stream",
     "text": [
      "You have 75679 different movies to scrape.\n"
     ]
    }
   ],
   "source": [
    "# Getting only unique links to scrape\n",
    "uniques = list(set([link for links in movie_links.values() for link in links])) \n",
    "print('You have {} different movies to scrape.'.format(len(uniques)))"
   ]
  },
  {
   "cell_type": "code",
   "execution_count": 5,
   "metadata": {},
   "outputs": [
    {
     "name": "stdout",
     "output_type": "stream",
     "text": [
      "5000 links scraped.\n",
      "Saving... don't quit!\n",
      "10000 links scraped.\n",
      "Saving... don't quit!\n",
      "15000 links scraped.\n",
      "Saving... don't quit!\n",
      "20000 links scraped.\n",
      "Saving... don't quit!\n",
      "25000 links scraped.\n",
      "Saving... don't quit!\n",
      "30000 links scraped.\n",
      "Saving... don't quit!\n",
      "You got 30677 right and 2 errors.\n"
     ]
    }
   ],
   "source": [
    "# Scraping info from each movie link using BS4\n",
    "all_info_dict = []\n",
    "errors = []\n",
    "c = 0\n",
    "\n",
    "for link in uniques:\n",
    "    c += 1\n",
    "    \n",
    "    try:\n",
    "        html = requests.get(link, headers={'user-agent': 'Mozilla/5.0'}).content\n",
    "        soup = BeautifulSoup(html, features=\"lxml\")\n",
    "\n",
    "        time.sleep(random.uniform(0.5,1.2))\n",
    "\n",
    "        all_info = soup.find('script', {'type':'application/ld+json'}).text\n",
    "\n",
    "        all_info_dict += [json.loads(all_info)]\n",
    "\n",
    "    except:\n",
    "        errors += [link]\n",
    "        \n",
    "        \n",
    "    # Saving after every 5000 links    \n",
    "    if c%5000 == 0:\n",
    "        \n",
    "        print(c, 'links scraped.')\n",
    "        time.sleep(1)\n",
    "        print(\"Saving... don't quit!\")\n",
    "        \n",
    "        with open('movie_info_raw_new.json', 'w') as outfile:\n",
    "            json.dump(all_info_dict, outfile)\n",
    "            \n",
    "print('You got {} right and {} errors.'.format(len(all_info_dict), len(errors)))"
   ]
  },
  {
   "cell_type": "code",
   "execution_count": 5,
   "metadata": {},
   "outputs": [
    {
     "name": "stdout",
     "output_type": "stream",
     "text": [
      "Total of 69997 movies information scraped.\n"
     ]
    }
   ],
   "source": [
    "# Loading saved files and putting them on the same list\n",
    "\n",
    "info_dict = []\n",
    "\n",
    "for file in os.listdir():\n",
    "    if file.startswith('movie_info_raw'):\n",
    "        with open(file, 'r') as file:\n",
    "            js = json.load(file)\n",
    "        info_dict += js \n",
    "        \n",
    "print('Total of {} movies information scraped.'.format(len(info_dict)))"
   ]
  },
  {
   "cell_type": "code",
   "execution_count": 6,
   "metadata": {},
   "outputs": [
    {
     "name": "stdout",
     "output_type": "stream",
     "text": [
      "Checking placement:\n",
      "Found 69997 values for trailer\n",
      "Found 69997 values for contentRating\n",
      "Found 69997 values for genre\n",
      "Found 69997 values for url\n",
      "Found 69997 values for director\n",
      "Found 69997 values for duration\n",
      "Found 69997 values for @context\n",
      "Found 69997 values for actor\n",
      "Found 69997 values for creator\n",
      "Found 69997 values for keywords\n",
      "Found 69997 values for image\n",
      "Found 69997 values for datePublished\n",
      "Found 69997 values for aggregateRating\n",
      "Found 69997 values for name\n",
      "Found 69997 values for description\n",
      "Found 69997 values for @type\n",
      "Found 69997 values for review\n"
     ]
    }
   ],
   "source": [
    "# Naming dictionary keys:\n",
    "headings = list(set([i for dct in info_dict[::5000] for i in list(dct.keys())]))\n",
    "\n",
    "# Creating dictionary to store items:\n",
    "movie_dc = {k:[] for k in headings}\n",
    "\n",
    "# Turning list of dictionaries into one dictionary with lists as values\n",
    "for dct in info_dict:\n",
    "    headings = list(set(dct.keys()))\n",
    "    for key in movie_dc.keys():\n",
    "        if key in headings:\n",
    "            movie_dc[key] += [dct[key]]\n",
    "        else:\n",
    "            movie_dc[key] += [None]\n",
    "\n",
    "# Checking results \n",
    "print('Checking placement:')\n",
    "for key, values in movie_dc.items():\n",
    "    assert len(values) == len(info_dict)\n",
    "    print('Found {} values for {}'.format(len(values), key))"
   ]
  },
  {
   "cell_type": "code",
   "execution_count": 11,
   "metadata": {},
   "outputs": [],
   "source": [
    "# Keeping only what is needed\n",
    "\n",
    "movie_dict = {'id': [], 'title':[], 'year':[], 'type':[], 'genre':[], 'rating':[],\n",
    "              'rating_count':[], 'duration':[], 'age':[], 'keywords' : [], 'summary':[]} \n",
    "\n",
    "\n",
    "movie_dict['id'] = [i[9:-1] for i in movie_dc['url']]\n",
    "movie_dict['title'] = movie_dc['name']\n",
    "movie_dict['year'] = movie_dc['datePublished']\n",
    "movie_dict['type'] = movie_dc['@type']\n",
    "movie_dict['genre'] = movie_dc['genre']\n",
    "movie_dict['rating'] = [movie_dc['aggregateRating'][i]['ratingValue'] \n",
    "                        if movie_dc['aggregateRating'][i] != None else None\n",
    "                        for i in range(len(movie_dc['aggregateRating']))]\n",
    "movie_dict['rating_count'] = [movie_dc['aggregateRating'][i]['ratingCount']\n",
    "                              if movie_dc['aggregateRating'][i] != None else None\n",
    "                              for i in range(len(movie_dc['aggregateRating']))]\n",
    "movie_dict['duration'] = movie_dc['duration']\n",
    "movie_dict['age'] = movie_dc['contentRating']\n",
    "movie_dict['keywords'] = movie_dc['keywords']\n",
    "movie_dict['summary'] = movie_dc['description']"
   ]
  },
  {
   "cell_type": "code",
   "execution_count": 12,
   "metadata": {},
   "outputs": [
    {
     "data": {
      "text/html": [
       "<div>\n",
       "<style scoped>\n",
       "    .dataframe tbody tr th:only-of-type {\n",
       "        vertical-align: middle;\n",
       "    }\n",
       "\n",
       "    .dataframe tbody tr th {\n",
       "        vertical-align: top;\n",
       "    }\n",
       "\n",
       "    .dataframe thead th {\n",
       "        text-align: right;\n",
       "    }\n",
       "</style>\n",
       "<table border=\"1\" class=\"dataframe\">\n",
       "  <thead>\n",
       "    <tr style=\"text-align: right;\">\n",
       "      <th></th>\n",
       "      <th>id</th>\n",
       "      <th>title</th>\n",
       "      <th>year</th>\n",
       "      <th>type</th>\n",
       "      <th>genre</th>\n",
       "      <th>rating</th>\n",
       "      <th>rating_count</th>\n",
       "      <th>duration</th>\n",
       "      <th>age</th>\n",
       "      <th>keywords</th>\n",
       "      <th>summary</th>\n",
       "    </tr>\n",
       "  </thead>\n",
       "  <tbody>\n",
       "    <tr>\n",
       "      <th>0</th>\n",
       "      <td>0099704</td>\n",
       "      <td>Grim Prairie Tales: Hit the Trail... to Terror</td>\n",
       "      <td>1990-09-14</td>\n",
       "      <td>Movie</td>\n",
       "      <td>[Horror, Western]</td>\n",
       "      <td>5.4</td>\n",
       "      <td>877.0</td>\n",
       "      <td>PT1H26M</td>\n",
       "      <td>R</td>\n",
       "      <td>campfire,vagina dentata,campfire story,antholo...</td>\n",
       "      <td>Grim Prairie Tales: Hit the Trail... to Terror...</td>\n",
       "    </tr>\n",
       "    <tr>\n",
       "      <th>1</th>\n",
       "      <td>1295093</td>\n",
       "      <td>Trust</td>\n",
       "      <td>2009-06-29</td>\n",
       "      <td>Movie</td>\n",
       "      <td>[Crime, Drama, Mystery]</td>\n",
       "      <td>5.6</td>\n",
       "      <td>145.0</td>\n",
       "      <td>PT1H30M</td>\n",
       "      <td>TV-14</td>\n",
       "      <td>one word title</td>\n",
       "      <td>Trust is a TV movie starring Jamie Luner, Nels...</td>\n",
       "    </tr>\n",
       "    <tr>\n",
       "      <th>2</th>\n",
       "      <td>8525070</td>\n",
       "      <td>Les fauves</td>\n",
       "      <td>2019-01-23</td>\n",
       "      <td>Movie</td>\n",
       "      <td>[Drama, Mystery, Thriller]</td>\n",
       "      <td>5.0</td>\n",
       "      <td>454.0</td>\n",
       "      <td>PT1H23M</td>\n",
       "      <td>None</td>\n",
       "      <td>night,sex scene,sex in car,breaking and enteri...</td>\n",
       "      <td>Les fauves is a movie starring Lily-Rose Depp,...</td>\n",
       "    </tr>\n",
       "    <tr>\n",
       "      <th>3</th>\n",
       "      <td>8038720</td>\n",
       "      <td>Bulletproof</td>\n",
       "      <td>2018-05-15</td>\n",
       "      <td>TVSeries</td>\n",
       "      <td>[Action, Crime, Drama, Thriller]</td>\n",
       "      <td>6.4</td>\n",
       "      <td>2291.0</td>\n",
       "      <td>None</td>\n",
       "      <td>TV-14</td>\n",
       "      <td>None</td>\n",
       "      <td>Bulletproof is a TV series starring Noel Clark...</td>\n",
       "    </tr>\n",
       "    <tr>\n",
       "      <th>4</th>\n",
       "      <td>5660206</td>\n",
       "      <td>Spider Woman</td>\n",
       "      <td>None</td>\n",
       "      <td>Movie</td>\n",
       "      <td>Horror</td>\n",
       "      <td>2.7</td>\n",
       "      <td>38.0</td>\n",
       "      <td>PT1H28M</td>\n",
       "      <td>None</td>\n",
       "      <td>psychotronic film</td>\n",
       "      <td>Spider Woman is a movie starring Krerk-krai Un...</td>\n",
       "    </tr>\n",
       "  </tbody>\n",
       "</table>\n",
       "</div>"
      ],
      "text/plain": [
       "        id                                           title        year  \\\n",
       "0  0099704  Grim Prairie Tales: Hit the Trail... to Terror  1990-09-14   \n",
       "1  1295093                                           Trust  2009-06-29   \n",
       "2  8525070                                      Les fauves  2019-01-23   \n",
       "3  8038720                                     Bulletproof  2018-05-15   \n",
       "4  5660206                                    Spider Woman        None   \n",
       "\n",
       "       type                             genre rating  rating_count duration  \\\n",
       "0     Movie                 [Horror, Western]    5.4         877.0  PT1H26M   \n",
       "1     Movie           [Crime, Drama, Mystery]    5.6         145.0  PT1H30M   \n",
       "2     Movie        [Drama, Mystery, Thriller]    5.0         454.0  PT1H23M   \n",
       "3  TVSeries  [Action, Crime, Drama, Thriller]    6.4        2291.0     None   \n",
       "4     Movie                            Horror    2.7          38.0  PT1H28M   \n",
       "\n",
       "     age                                           keywords  \\\n",
       "0      R  campfire,vagina dentata,campfire story,antholo...   \n",
       "1  TV-14                                     one word title   \n",
       "2   None  night,sex scene,sex in car,breaking and enteri...   \n",
       "3  TV-14                                               None   \n",
       "4   None                                  psychotronic film   \n",
       "\n",
       "                                             summary  \n",
       "0  Grim Prairie Tales: Hit the Trail... to Terror...  \n",
       "1  Trust is a TV movie starring Jamie Luner, Nels...  \n",
       "2  Les fauves is a movie starring Lily-Rose Depp,...  \n",
       "3  Bulletproof is a TV series starring Noel Clark...  \n",
       "4  Spider Woman is a movie starring Krerk-krai Un...  "
      ]
     },
     "execution_count": 12,
     "metadata": {},
     "output_type": "execute_result"
    }
   ],
   "source": [
    "# Turn it into a dataframe\n",
    "df = pd.DataFrame.from_dict(movie_dict)\n",
    "\n",
    "df.head()"
   ]
  },
  {
   "cell_type": "code",
   "execution_count": 13,
   "metadata": {},
   "outputs": [],
   "source": [
    "# Saving to file\n",
    "df.to_csv('movie_info_df.csv')"
   ]
  }
 ],
 "metadata": {
  "kernelspec": {
   "display_name": "Python 3",
   "language": "python",
   "name": "python3"
  },
  "language_info": {
   "codemirror_mode": {
    "name": "ipython",
    "version": 3
   },
   "file_extension": ".py",
   "mimetype": "text/x-python",
   "name": "python",
   "nbconvert_exporter": "python",
   "pygments_lexer": "ipython3",
   "version": "3.7.4"
  }
 },
 "nbformat": 4,
 "nbformat_minor": 4
}
