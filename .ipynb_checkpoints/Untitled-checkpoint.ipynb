{
 "cells": [
  {
   "cell_type": "code",
   "execution_count": 3,
   "metadata": {},
   "outputs": [],
   "source": [
    "from bs4 import BeautifulSoup\n",
    "import requests\n",
    "\n",
    "import pandas as pd\n",
    "import random\n",
    "import math\n",
    "import time\n",
    "import json\n",
    "import re"
   ]
  },
  {
   "cell_type": "code",
   "execution_count": 8,
   "metadata": {},
   "outputs": [],
   "source": [
    "links = ['https://www.imdb.com/title/tt9619798/?ref_=adv_li_tt','https://www.imdb.com/title/tt8064302/?ref_=adv_li_tt']\n",
    "all_info_dict = []\n",
    "\n",
    "for link in links:\n",
    "\n",
    "    html = requests.get(link, headers={'user-agent': 'Mozilla/5.0'}).content\n",
    "    soup = BeautifulSoup(html, features=\"lxml\")\n",
    "\n",
    "    time.sleep(random.uniform(0.5,1.2))\n",
    "\n",
    "    all_info = soup.find('script', {'type':'application/ld+json'}).text\n",
    "\n",
    "    all_info_dict += [json.loads(all_info)]\n",
    "    "
   ]
  },
  {
   "cell_type": "code",
   "execution_count": 57,
   "metadata": {},
   "outputs": [
    {
     "data": {
      "text/plain": [
       "[15839, 41298]"
      ]
     },
     "execution_count": 57,
     "metadata": {},
     "output_type": "execute_result"
    }
   ],
   "source": [
    "[movie_dc['aggregateRating'][i]['ratingCount']  for i in range(len(movie_dc['aggregateRating']))]"
   ]
  },
  {
   "cell_type": "code",
   "execution_count": 49,
   "metadata": {},
   "outputs": [
    {
     "name": "stdout",
     "output_type": "stream",
     "text": [
      "Checking placement:\n",
      "Found 2 values for director\n",
      "Found 2 values for image\n",
      "Found 2 values for actor\n",
      "Found 2 values for creator\n",
      "Found 2 values for review\n",
      "Found 2 values for description\n",
      "Found 2 values for genre\n",
      "Found 2 values for duration\n",
      "Found 2 values for contentRating\n",
      "Found 2 values for name\n",
      "Found 2 values for url\n",
      "Found 2 values for trailer\n",
      "Found 2 values for datePublished\n",
      "Found 2 values for keywords\n",
      "Found 2 values for aggregateRating\n",
      "Found 2 values for @context\n",
      "Found 2 values for @type\n"
     ]
    }
   ],
   "source": [
    "# Naming dictionary keys:\n",
    "headings = list(set([i for dct in all_info_dict[::5000] for i in list(dct.keys())]))\n",
    "\n",
    "\n",
    "# Creating dictionary to store items:\n",
    "movie_dc = {k:[] for k in headings}\n",
    "\n",
    "# Turning list of dictionaries into one dictionary with lists as values\n",
    "for dct in all_info_dict:\n",
    "    headings = list(set(dct.keys()))\n",
    "    for key in movie_dc.keys():\n",
    "        if key in headings:\n",
    "            movie_dc[key] += [dct[key]]\n",
    "        else:\n",
    "            movie_dc[key] += [None]\n",
    "\n",
    "# Checking results \n",
    "print('Checking placement:')\n",
    "for key, values in movie_dc.items():\n",
    "    print('Found {} values for {}'.format(len(values), key))"
   ]
  },
  {
   "cell_type": "code",
   "execution_count": null,
   "metadata": {},
   "outputs": [],
   "source": [
    "# Keeping only what is needed\n",
    "\n",
    "movie_dict = {'id': [], 'title':[], 'year':[], 'type':[], 'genre':[], 'rating':[],\n",
    "              'rating_count':[], 'duration':[], 'age':[], 'keywords' : [], 'summary':[]} \n",
    "\n",
    "for val in movie_dc.values():\n",
    "    movie_dict['id'] = [i[9:-1] for i in movie_dc['url']]\n",
    "    movie_dict['title'] = movie_dc['name']\n",
    "    movie_dict['year'] = movie_dc['datePublished']\n",
    "    movie_dict['type'] = movie_dc['@type']\n",
    "    movie_dict['genre'] = movie_dc['genre']\n",
    "    movie_dict['rating'] = [movie_dc['aggregateRating'][i]['ratingValue']  for i in range(len(movie_dc['aggregateRating']))]\n",
    "    movie_dict['rating_count'] = [movie_dc['aggregateRating'][i]['ratingCount'] for i in range(len(movie_dc['aggregateRating']))]\n",
    "    movie_dict['duration'] = movie_dc['duration']\n",
    "    movie_dict['age'] = movie_dc['contentRating']\n",
    "    movie_dict['keywords'] = movie_dc['keywords']\n",
    "    movie_dict['summary'] = movie_dc['duration']"
   ]
  },
  {
   "cell_type": "code",
   "execution_count": 50,
   "metadata": {},
   "outputs": [
    {
     "data": {
      "text/html": [
       "<div>\n",
       "<style scoped>\n",
       "    .dataframe tbody tr th:only-of-type {\n",
       "        vertical-align: middle;\n",
       "    }\n",
       "\n",
       "    .dataframe tbody tr th {\n",
       "        vertical-align: top;\n",
       "    }\n",
       "\n",
       "    .dataframe thead th {\n",
       "        text-align: right;\n",
       "    }\n",
       "</style>\n",
       "<table border=\"1\" class=\"dataframe\">\n",
       "  <thead>\n",
       "    <tr style=\"text-align: right;\">\n",
       "      <th></th>\n",
       "      <th>director</th>\n",
       "      <th>image</th>\n",
       "      <th>actor</th>\n",
       "      <th>creator</th>\n",
       "      <th>review</th>\n",
       "      <th>description</th>\n",
       "      <th>genre</th>\n",
       "      <th>duration</th>\n",
       "      <th>contentRating</th>\n",
       "      <th>name</th>\n",
       "      <th>url</th>\n",
       "      <th>trailer</th>\n",
       "      <th>datePublished</th>\n",
       "      <th>keywords</th>\n",
       "      <th>aggregateRating</th>\n",
       "      <th>@context</th>\n",
       "      <th>@type</th>\n",
       "    </tr>\n",
       "  </thead>\n",
       "  <tbody>\n",
       "    <tr>\n",
       "      <th>0</th>\n",
       "      <td>{'@type': 'Person', 'url': '/name/nm2634746/',...</td>\n",
       "      <td>https://m.media-amazon.com/images/M/MV5BY2QwZW...</td>\n",
       "      <td>[{'@type': 'Person', 'url': '/name/nm0005450/'...</td>\n",
       "      <td>[{'@type': 'Person', 'url': '/name/nm2475608/'...</td>\n",
       "      <td>{'@type': 'Review', 'itemReviewed': {'@type': ...</td>\n",
       "      <td>The Wrong Missy is a movie starring David Spad...</td>\n",
       "      <td>[Comedy, Romance]</td>\n",
       "      <td>PT1H30M</td>\n",
       "      <td>TV-MA</td>\n",
       "      <td>The Wrong Missy</td>\n",
       "      <td>/title/tt9619798/</td>\n",
       "      <td>{'@type': 'VideoObject', 'name': 'Official Tra...</td>\n",
       "      <td>2020-05-13</td>\n",
       "      <td>blind date,hawaii,hypnotism,texting wrong pers...</td>\n",
       "      <td>{'@type': 'AggregateRating', 'ratingCount': 15...</td>\n",
       "      <td>http://schema.org</td>\n",
       "      <td>Movie</td>\n",
       "    </tr>\n",
       "    <tr>\n",
       "      <th>1</th>\n",
       "      <td>None</td>\n",
       "      <td>https://m.media-amazon.com/images/M/MV5BNTcyOT...</td>\n",
       "      <td>[{'@type': 'Person', 'url': '/name/nm0000775/'...</td>\n",
       "      <td>[{'@type': 'Person', 'url': '/name/nm0271078/'...</td>\n",
       "      <td>{'@type': 'Review', 'itemReviewed': {'@type': ...</td>\n",
       "      <td>Dead to Me is a TV series starring Christina A...</td>\n",
       "      <td>[Comedy, Drama]</td>\n",
       "      <td>None</td>\n",
       "      <td>TV-MA</td>\n",
       "      <td>Dead to Me</td>\n",
       "      <td>/title/tt8064302/</td>\n",
       "      <td>{'@type': 'VideoObject', 'name': 'Dead To Me |...</td>\n",
       "      <td>2019-05-03</td>\n",
       "      <td>hit and run,grief,breast cancer,miscarriage,pa...</td>\n",
       "      <td>{'@type': 'AggregateRating', 'ratingCount': 41...</td>\n",
       "      <td>http://schema.org</td>\n",
       "      <td>TVSeries</td>\n",
       "    </tr>\n",
       "  </tbody>\n",
       "</table>\n",
       "</div>"
      ],
      "text/plain": [
       "                                            director  \\\n",
       "0  {'@type': 'Person', 'url': '/name/nm2634746/',...   \n",
       "1                                               None   \n",
       "\n",
       "                                               image  \\\n",
       "0  https://m.media-amazon.com/images/M/MV5BY2QwZW...   \n",
       "1  https://m.media-amazon.com/images/M/MV5BNTcyOT...   \n",
       "\n",
       "                                               actor  \\\n",
       "0  [{'@type': 'Person', 'url': '/name/nm0005450/'...   \n",
       "1  [{'@type': 'Person', 'url': '/name/nm0000775/'...   \n",
       "\n",
       "                                             creator  \\\n",
       "0  [{'@type': 'Person', 'url': '/name/nm2475608/'...   \n",
       "1  [{'@type': 'Person', 'url': '/name/nm0271078/'...   \n",
       "\n",
       "                                              review  \\\n",
       "0  {'@type': 'Review', 'itemReviewed': {'@type': ...   \n",
       "1  {'@type': 'Review', 'itemReviewed': {'@type': ...   \n",
       "\n",
       "                                         description              genre  \\\n",
       "0  The Wrong Missy is a movie starring David Spad...  [Comedy, Romance]   \n",
       "1  Dead to Me is a TV series starring Christina A...    [Comedy, Drama]   \n",
       "\n",
       "  duration contentRating             name                url  \\\n",
       "0  PT1H30M         TV-MA  The Wrong Missy  /title/tt9619798/   \n",
       "1     None         TV-MA       Dead to Me  /title/tt8064302/   \n",
       "\n",
       "                                             trailer datePublished  \\\n",
       "0  {'@type': 'VideoObject', 'name': 'Official Tra...    2020-05-13   \n",
       "1  {'@type': 'VideoObject', 'name': 'Dead To Me |...    2019-05-03   \n",
       "\n",
       "                                            keywords  \\\n",
       "0  blind date,hawaii,hypnotism,texting wrong pers...   \n",
       "1  hit and run,grief,breast cancer,miscarriage,pa...   \n",
       "\n",
       "                                     aggregateRating           @context  \\\n",
       "0  {'@type': 'AggregateRating', 'ratingCount': 15...  http://schema.org   \n",
       "1  {'@type': 'AggregateRating', 'ratingCount': 41...  http://schema.org   \n",
       "\n",
       "      @type  \n",
       "0     Movie  \n",
       "1  TVSeries  "
      ]
     },
     "execution_count": 50,
     "metadata": {},
     "output_type": "execute_result"
    }
   ],
   "source": [
    "# Turn it into a dataframe\n",
    "\n",
    "df = pd.DataFrame.from_dict(movie_dc)\n",
    "df"
   ]
  },
  {
   "cell_type": "code",
   "execution_count": null,
   "metadata": {},
   "outputs": [],
   "source": []
  }
 ],
 "metadata": {
  "kernelspec": {
   "display_name": "Python 3",
   "language": "python",
   "name": "python3"
  },
  "language_info": {
   "codemirror_mode": {
    "name": "ipython",
    "version": 3
   },
   "file_extension": ".py",
   "mimetype": "text/x-python",
   "name": "python",
   "nbconvert_exporter": "python",
   "pygments_lexer": "ipython3",
   "version": "3.7.4"
  }
 },
 "nbformat": 4,
 "nbformat_minor": 4
}
