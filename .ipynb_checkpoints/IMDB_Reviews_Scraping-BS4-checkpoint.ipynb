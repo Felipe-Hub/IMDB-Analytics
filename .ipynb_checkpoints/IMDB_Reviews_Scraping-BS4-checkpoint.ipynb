{
 "cells": [
  {
   "cell_type": "code",
   "execution_count": 1,
   "metadata": {},
   "outputs": [],
   "source": [
    "from bs4 import BeautifulSoup\n",
    "import requests\n",
    "\n",
    "import pandas as pd\n",
    "import random\n",
    "import math\n",
    "import time\n",
    "import json\n",
    "import re"
   ]
  },
  {
   "cell_type": "code",
   "execution_count": 2,
   "metadata": {},
   "outputs": [],
   "source": [
    "# Load previous saved datafram\n",
    "df = pd.read_csv('movie_info_df.csv')"
   ]
  },
  {
   "cell_type": "code",
   "execution_count": null,
   "metadata": {},
   "outputs": [],
   "source": [
    "reviews_dict = {'id': [], 'reviews': [], 'rating': []}\n",
    "errors = []\n",
    "c = 0\n",
    "\n",
    "for i in df['id'].unique():\n",
    "    c += 1\n",
    "    link = 'https://www.imdb.com/title/tt' + str(i) + '/reviews'\n",
    "    \n",
    "    try:\n",
    "        html = requests.get(link, headers={'user-agent': 'Mozilla/5.0'}).content\n",
    "        soup = BeautifulSoup(html, features=\"lxml\")\n",
    "        time.sleep(random.uniform(0.5,1))\n",
    "        \n",
    "        reviews = [i.get_text(' ', strip=True).replace('\\n', ' ')\n",
    "                   for i in soup.find_all('div', {'class':'text show-more__control'})]\n",
    "        \n",
    "        rating = [i.find('span', {'class':'rating-other-user-rating'}).get_text(' ', strip=True)[0]\n",
    "                    if i.find('span', {'class':'rating-other-user-rating'}) else None\n",
    "                    for i in soup.find_all('div', {'class':'review-container'})]\n",
    "\n",
    "        \n",
    "        reviews_dict['id'] += [i]*len(reviews)\n",
    "        reviews_dict['reviews'] += reviews\n",
    "        reviews_dict['rating'] += rating\n",
    "        \n",
    "    except:\n",
    "        errors += [link]\n",
    "        \n",
    "    # Saving after every 5000 links    \n",
    "    if c%5000 == 0:\n",
    "        print(c, 'links scraped.')\n",
    "        time.sleep(1)\n",
    "        print(\"Saving... don't quit!\")\n",
    "        \n",
    "        with open('movie_reviews_raw_1.json', 'w') as outfile:\n",
    "            json.dump(all_info_dict, outfile)\n",
    "            \n",
    "print('You got {} right and {} errors.'.format(len(reviews_dict), len(errors)))"
   ]
  },
  {
   "cell_type": "code",
   "execution_count": null,
   "metadata": {},
   "outputs": [],
   "source": [
    "# Checking order and results\n",
    "\n",
    "assert len(reviews_dict['id']) == len(reviews_dict['reviews']) == len(reviews_dict['rating'])\n",
    "\n",
    "print(\"You have scraped {} reviews of {} movies.\".format(len(reviews_dict['reviews']),\n",
    "                                                         len(df['id'].unique())-len(errors)))"
   ]
  },
  {
   "cell_type": "code",
   "execution_count": null,
   "metadata": {},
   "outputs": [],
   "source": [
    "# Turn it into a dataframe\n",
    "df = pd.DataFrame.from_dict(reviews_dict)\n",
    "\n",
    "df.head()"
   ]
  },
  {
   "cell_type": "code",
   "execution_count": null,
   "metadata": {},
   "outputs": [],
   "source": [
    "# Saving to file\n",
    "df.to_csv('reviews_df.csv')"
   ]
  },
  {
   "cell_type": "code",
   "execution_count": null,
   "metadata": {},
   "outputs": [],
   "source": []
  }
 ],
 "metadata": {
  "kernelspec": {
   "display_name": "Python 3",
   "language": "python",
   "name": "python3"
  },
  "language_info": {
   "codemirror_mode": {
    "name": "ipython",
    "version": 3
   },
   "file_extension": ".py",
   "mimetype": "text/x-python",
   "name": "python",
   "nbconvert_exporter": "python",
   "pygments_lexer": "ipython3",
   "version": "3.7.4"
  }
 },
 "nbformat": 4,
 "nbformat_minor": 4
}
