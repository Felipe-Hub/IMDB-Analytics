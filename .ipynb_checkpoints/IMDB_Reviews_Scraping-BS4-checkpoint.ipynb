{
 "cells": [
  {
   "cell_type": "code",
   "execution_count": 3,
   "metadata": {},
   "outputs": [],
   "source": [
    "from bs4 import BeautifulSoup\n",
    "import requests\n",
    "\n",
    "import pandas as pd\n",
    "import random\n",
    "import math\n",
    "import time\n",
    "import json\n",
    "import re"
   ]
  },
  {
   "cell_type": "code",
   "execution_count": 8,
   "metadata": {},
   "outputs": [],
   "source": [
    "# Load previous saved datafram\n",
    "df = pd.read('movie_info_df.csv')"
   ]
  },
  {
   "cell_type": "code",
   "execution_count": 105,
   "metadata": {},
   "outputs": [],
   "source": [
    "reviews_dict = {'id': [], 'reviews': [], 'rating': []}\n",
    "errors = []\n",
    "\n",
    "for i in df['id'].unique():\n",
    "    link = 'https://www.imdb.com/title/tt' + i + '/reviews'\n",
    "    \n",
    "    try:\n",
    "        html = requests.get(link, headers={'user-agent': 'Mozilla/5.0'}).content\n",
    "        soup = BeautifulSoup(html, features=\"lxml\")\n",
    "        time.sleep(random.uniform(0.5,1))\n",
    "        \n",
    "        reviews = [i.get_text(' ', strip=True).replace('\\n', ' ')\n",
    "                   for i in soup.find_all('div', {'class':'text show-more__control'})]\n",
    "        \n",
    "        rating = [i.find('span').get_text(' ', strip=True)\n",
    "                  for i in soup.find_all('span', {'class':'rating-other-user-rating'})]\n",
    "\n",
    "        \n",
    "        reviews_dict['id'] += [i]*len(reviews)\n",
    "        reviews_dict['reviews'] += reviews\n",
    "        reviews_dict['rating'] += rating\n",
    "        \n",
    "    except:\n",
    "        errors += [link]"
   ]
  },
  {
   "cell_type": "code",
   "execution_count": 106,
   "metadata": {},
   "outputs": [
    {
     "name": "stdout",
     "output_type": "stream",
     "text": [
      "You have scraped 50 reviews of 2 movies.\n"
     ]
    }
   ],
   "source": [
    "# Checking order and results\n",
    "\n",
    "assert len(reviews_dict['id']) == len(reviews_dict['reviews']) == len(reviews_dict['rating'])\n",
    "\n",
    "print(\"You have scraped {} reviews of {} movies.\".format(len(reviews_dict['reviews']),\n",
    "                                                         len(df['id'].unique())-len(errors)))"
   ]
  },
  {
   "cell_type": "code",
   "execution_count": null,
   "metadata": {},
   "outputs": [],
   "source": [
    "# Turn it into a dataframe\n",
    "df = pd.DataFrame.from_dict(reviews_dict)\n",
    "\n",
    "df.head()"
   ]
  },
  {
   "cell_type": "code",
   "execution_count": null,
   "metadata": {},
   "outputs": [],
   "source": [
    "# Saving to file\n",
    "df.to_csv('movie_info_df.csv')"
   ]
  }
 ],
 "metadata": {
  "kernelspec": {
   "display_name": "Python 3",
   "language": "python",
   "name": "python3"
  },
  "language_info": {
   "codemirror_mode": {
    "name": "ipython",
    "version": 3
   },
   "file_extension": ".py",
   "mimetype": "text/x-python",
   "name": "python",
   "nbconvert_exporter": "python",
   "pygments_lexer": "ipython3",
   "version": "3.7.4"
  }
 },
 "nbformat": 4,
 "nbformat_minor": 4
}
