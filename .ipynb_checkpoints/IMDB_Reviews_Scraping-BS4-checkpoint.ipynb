{
 "cells": [
  {
   "cell_type": "code",
   "execution_count": 51,
   "metadata": {},
   "outputs": [],
   "source": [
    "from bs4 import BeautifulSoup\n",
    "import requests\n",
    "\n",
    "import pandas as pd\n",
    "import random\n",
    "import math\n",
    "import time\n",
    "import json\n",
    "import re"
   ]
  },
  {
   "cell_type": "code",
   "execution_count": 52,
   "metadata": {},
   "outputs": [],
   "source": [
    "# Load previous saved datafram\n",
    "df = pd.read_csv('movie_info_df.csv')"
   ]
  },
  {
   "cell_type": "code",
   "execution_count": 68,
   "metadata": {},
   "outputs": [
    {
     "name": "stdout",
     "output_type": "stream",
     "text": [
      "You got 3 right and 0 errors.\n"
     ]
    }
   ],
   "source": [
    "reviews_dict = {'id': [], 'reviews': [], 'rating': []}\n",
    "errors = []\n",
    "c = 0\n",
    "\n",
    "for i in df['id'].unique():\n",
    "    c += 1\n",
    "    link = 'https://www.imdb.com/title/tt' + str(i) + '/reviews'\n",
    "    \n",
    "    try:\n",
    "        html = requests.get(link, headers={'user-agent': 'Mozilla/5.0'}).content\n",
    "        soup = BeautifulSoup(html, features=\"lxml\")\n",
    "        time.sleep(random.uniform(0.5,1))\n",
    "        \n",
    "        reviews = [i.get_text(' ', strip=True).replace('\\n', ' ')\n",
    "                   for i in soup.find_all('div', {'class':'content'})]\n",
    "        \n",
    "        rating = [i.find('span', {'class':'rating-other-user-rating'}).get_text(' ', strip=True)[0]\n",
    "                    if i.find('span', {'class':'rating-other-user-rating'}) else None\n",
    "                    for i in soup.find_all('div', {'class':'review-container'})]\n",
    "\n",
    "        \n",
    "        reviews_dict['id'] += [int(i)]*len(reviews)\n",
    "        reviews_dict['reviews'] += reviews\n",
    "        reviews_dict['rating'] += rating\n",
    "        \n",
    "    except:\n",
    "        errors += [link]\n",
    "        \n",
    "    # Saving after every 5000 links    \n",
    "    if c%5000 == 0:\n",
    "        print(c, 'links scraped.')\n",
    "        time.sleep(1)\n",
    "        print(\"Saving... don't quit!\")\n",
    "        \n",
    "        with open('movie_reviews_raw_1.json', 'w') as outfile:\n",
    "            json.dump(reviews_dict, outfile)\n",
    "            \n",
    "print('You got {} right and {} errors.'.format(len(reviews_dict), len(errors)))"
   ]
  },
  {
   "cell_type": "code",
   "execution_count": 69,
   "metadata": {},
   "outputs": [
    {
     "name": "stdout",
     "output_type": "stream",
     "text": [
      "You have scraped 36 reviews of 4 movies.\n"
     ]
    }
   ],
   "source": [
    "# Checking order and results\n",
    "\n",
    "assert len(reviews_dict['id']) == len(reviews_dict['reviews']) == len(reviews_dict['rating'])\n",
    "\n",
    "print(\"You have scraped {} reviews of {} movies.\".format(len(reviews_dict['reviews']),\n",
    "                                                         len(df['id'].unique())-len(errors)))"
   ]
  },
  {
   "cell_type": "code",
   "execution_count": 70,
   "metadata": {},
   "outputs": [
    {
     "data": {
      "text/html": [
       "<div>\n",
       "<style scoped>\n",
       "    .dataframe tbody tr th:only-of-type {\n",
       "        vertical-align: middle;\n",
       "    }\n",
       "\n",
       "    .dataframe tbody tr th {\n",
       "        vertical-align: top;\n",
       "    }\n",
       "\n",
       "    .dataframe thead th {\n",
       "        text-align: right;\n",
       "    }\n",
       "</style>\n",
       "<table border=\"1\" class=\"dataframe\">\n",
       "  <thead>\n",
       "    <tr style=\"text-align: right;\">\n",
       "      <th></th>\n",
       "      <th>id</th>\n",
       "      <th>reviews</th>\n",
       "      <th>rating</th>\n",
       "    </tr>\n",
       "  </thead>\n",
       "  <tbody>\n",
       "    <tr>\n",
       "      <th>0</th>\n",
       "      <td>1295093</td>\n",
       "      <td>After watching this movie on Lifetime I have t...</td>\n",
       "      <td>8</td>\n",
       "    </tr>\n",
       "    <tr>\n",
       "      <th>1</th>\n",
       "      <td>1295093</td>\n",
       "      <td>***SPOILERS*** Overly plotted and both mind nu...</td>\n",
       "      <td>6</td>\n",
       "    </tr>\n",
       "    <tr>\n",
       "      <th>2</th>\n",
       "      <td>1295093</td>\n",
       "      <td>The painter Sandra Gunn has a fantasy of livin...</td>\n",
       "      <td>None</td>\n",
       "    </tr>\n",
       "    <tr>\n",
       "      <th>3</th>\n",
       "      <td>1295093</td>\n",
       "      <td>As stories go, based around a wife's suspicion...</td>\n",
       "      <td>3</td>\n",
       "    </tr>\n",
       "    <tr>\n",
       "      <th>4</th>\n",
       "      <td>1295093</td>\n",
       "      <td>For once again we are forced to watch this act...</td>\n",
       "      <td>None</td>\n",
       "    </tr>\n",
       "  </tbody>\n",
       "</table>\n",
       "</div>"
      ],
      "text/plain": [
       "        id                                            reviews rating\n",
       "0  1295093  After watching this movie on Lifetime I have t...      8\n",
       "1  1295093  ***SPOILERS*** Overly plotted and both mind nu...      6\n",
       "2  1295093  The painter Sandra Gunn has a fantasy of livin...   None\n",
       "3  1295093  As stories go, based around a wife's suspicion...      3\n",
       "4  1295093  For once again we are forced to watch this act...   None"
      ]
     },
     "execution_count": 70,
     "metadata": {},
     "output_type": "execute_result"
    }
   ],
   "source": [
    "# Turn it into a dataframe\n",
    "df = pd.DataFrame.from_dict(reviews_dict)\n",
    "\n",
    "df.head()"
   ]
  },
  {
   "cell_type": "code",
   "execution_count": 71,
   "metadata": {},
   "outputs": [],
   "source": [
    "# Saving to file\n",
    "df.to_csv('reviews_df.csv')"
   ]
  },
  {
   "cell_type": "code",
   "execution_count": null,
   "metadata": {},
   "outputs": [],
   "source": [
    "with open('movie_reviews_raw_1.json', 'r') as outfile:\n",
    "           reviews_dict = json.load(outfile)"
   ]
  },
  {
   "cell_type": "code",
   "execution_count": 72,
   "metadata": {},
   "outputs": [
    {
     "name": "stdout",
     "output_type": "stream",
     "text": [
      "36\n",
      "36\n",
      "36\n"
     ]
    }
   ],
   "source": [
    "for k,v in reviews_dict.items():\n",
    "    print(len(v))"
   ]
  },
  {
   "cell_type": "code",
   "execution_count": 55,
   "metadata": {},
   "outputs": [
    {
     "data": {
      "text/plain": [
       "[]"
      ]
     },
     "execution_count": 55,
     "metadata": {},
     "output_type": "execute_result"
    }
   ],
   "source": [
    "[type(i) for i in reviews_dict['rating'] if type(i) is not str and i is not None]"
   ]
  },
  {
   "cell_type": "code",
   "execution_count": 59,
   "metadata": {},
   "outputs": [
    {
     "data": {
      "text/plain": [
       "'3'"
      ]
     },
     "execution_count": 59,
     "metadata": {},
     "output_type": "execute_result"
    }
   ],
   "source": [
    "reviews_dict['rating'][-1]"
   ]
  },
  {
   "cell_type": "code",
   "execution_count": 60,
   "metadata": {},
   "outputs": [
    {
     "data": {
      "text/plain": [
       "'Spoilers--yes! And they\\'ll save you wasted time. The British are I believe are addicted to/enthralled by overly complicated stories (I think the writerly correct term is \"densely plotted.\") This is one of them--way too much stuff going on, which means deliberate attempts to confuse and mislead viewers.Focus is on Hotshot TV person (and crap mother) Heathcote, who\\'s re-reporting a decades-old Crime of the Century in a backward little village called Scardale. It\\'s the Disappearance of Young Alison. Walked out the door w/her dog & never seen again. No body found, just the dog. BUT bloodhound young Tec and Tough Old-Timer get killer circumstantial evidence vs Stepdad, despite mulish non-cooperation of villagers, even though they all hate Stepdad as much as he hates them. Evidence such as: 1, Stepdad\\'s a serious pro photog (& classist snob w/pals in high places) whose darkroom is wallpapered w/graphically sexy pix of himself w/ Alison--a 13-year-old made up to look a smoldering 25 or so. 2. More Alison pix found in Stepdad\\'s safe conclusively prove he\\'s a child rapist. 3. Bullets found in a pool of Alison\\'s blood in abandoned mine come from a gun stolen from Stepdad\\'s pal. 4. Gun is found in Stepdad\\'s den. 5 Wrapped in Stepdad\\'s shirt--custom-made & identifiable as his. 6. It\\'s soaked w/ Alison\\'s blood. 7. Also, old map found in Stepdad\\'s possession proves he knew all about mine\\'s locale. Stepdad relentlessly protests innocence but is tried and hanged right pronto. (Well, not quite pronto. Much time is spent by defense team suggesting the photos are fakes--and faked by the Tec. More time waster showing the Tec actually had the skill to do it--and never toold any he hed photo skills.( OK, now things, as Robbie Burns would say, \"gang agley.\" Heathcote, who is herself bloodhounding this story for her TV show, doesn\\'t know why she\\'s obsessed (\"it\\'s like an itch I can\\'t scratch\\') but plows on anyway. Then the Tec from the case, who won fame and career success for nailing Stepdad, suddenly pulls out of her TV show and won\\'t say why. (We learn much later that he begins to doubt Stepdad killed Alison & was wrongly convicted of murder though rightly of rape.) Naturally, because this is \"densely plotted,\" H\\'cote must also deal w/guilt over her single-crapmotherhood; a sullen, acting-out teenage daughter (ALWAYS a bad sign, the sullen offspring); her OWN crap mother (who warns against digging into the past and then goes back to her eternal typewriter, though we never lean why); a time-pressuring boss (another bad sign); a backstabbing colleague (yet another); and the hatred of the villagers, who say she\\'s trying to do dirt to the beloved hero Tec (but in fact have Their Own Hidden Agenda!). All this is ludicrously wrapped up in a neat but fragrant bundle of happenstance and coincidence, which is what writers use when concocting fake stories, i.e.,stories w/no reason for being. As follows: Heathcote, who in a throwaway line tells sullen daughter that she summered at Alison\\'s family\\'s estate a few times as a child, has been trying to get OK to film inside the manor house for months w/o success. So despite having been fired from her program for not getting the job done and despite she and her daughter and the hero Tec\\'s Old-Timer partner having been threatened at the manor house by ax-wielding villagers mere days before,she goes back to the place again, alone!, and sits outside on a log waiting for someone to come out. And whaddaya know, someone does! What are the odds? Heathcote forces her way in and soon discovers what the hero Tec (now every elderly & fragile) discovered only a week or so earlier (it\\'s the reason he\\'s exiting H\\'cote\\'s program): ALISON IS NOT DEAD! The murder rap was illegitimate after all!. Poor Tec? Not really. First, Heathcote gets from Alison definitive photo proof that Stepdad had raped almost every child in the village. (She\\'s kept it all these years, like relics of the saints) Immediately afterward, Alison convenes a meeting of the villagers, at which Heathcote learns the following: When the dozen-or-so parents learned Stepdad\\'s continuing multiple rapes they decided to Act. Here you\\'d expect something glorious amd gory like a torchlight parade with pitchforks and savagery, ending w/Stepdad\\'s mutilated corpse buried in a bog or pushed through the wood-chipper. But No. Alison\\'s Mom and all the parents decided instead to frame Stepdad for murder! For that, Alison must \\'disappear\\'--but first she is bled--bled like a stuck pig. Drained of enough blood (3 pints!) to convince investigators she must be dead--murdered--despite lack of a body. The gun is duly pinched by a housekeeper who conveniently works for both Alison\\'s mom and the gun \\'s owner. After a couple of shot are fired to provide bullets at the supposed murder site, the gun is planted in Stepdad\\'s den. And Alison? Alison is shipped off to distant relatives and, using their family name, moves w/them to Canada! At least for a time; anyway; then for no known reason she returns to live as, a recluse, in the manor house. That\\'s where Tec accidentally spots and recognizes her--and pulls out of Heathcote\\'s program, but can\\'t say why lest the whole world learn that hesent an innocent man to the gallows.) All this is proudly admitted to at the meeting of villagers, When Heathcote tells them that framing a guy for murder could put them in prison, Alison calmly notes \"that\\'s what they signed up for.\" (Easy for her to say: she was 13 at the time and is legally not liable!) Still, no one objects. No one tries to talk Heathcote into keeping this to herself. No one says \\'boy, are we ever screwed.\" People who went after her with axes only a day or so before now just SIT THERE and let her go off with the evidence that could put them all in jail. Or gaol (it\\'s England, remember.) Surely this is enough, eh? But, again, No. Remember Heathcote\\'s unscratchable itch? Remember her own crap mom? Well, later she goes riffling through the photos again and Bang-O right between the eyes! She finds a pic that proves to her horror that one of Stepdad\\'s victims was HERSELF. Yes, she was raped by Stepdad too.! And she also realizes that her own crap mom knew too and did nothing. This would be the point at which Heathcote,gives her a belt in the eye,but she doesn\\'t do that. She takes all her evidence for what would make her show the Story of the Year and blithely hands it over to the boss who canned her, thus rewarding him as well as the disloyal colleague who has taken her show over. Why? Because she and Sullen Brat are going to take a month off together and become the Best Pals they always should have been, thus making up for 15 years of parental neglect. OK, so it\\'s \"densely plotted.\" Everything fits in tyhe end. All the little pieces are wrapped up and the strings tied. Just like one of those 1000-piece picture puzzles or Lego toys. Perfect if you like that sort of thing.'"
      ]
     },
     "execution_count": 60,
     "metadata": {},
     "output_type": "execute_result"
    }
   ],
   "source": [
    "reviews_dict['reviews'][-1]"
   ]
  },
  {
   "cell_type": "code",
   "execution_count": 62,
   "metadata": {},
   "outputs": [
    {
     "data": {
      "text/plain": [
       "1295093"
      ]
     },
     "execution_count": 62,
     "metadata": {},
     "output_type": "execute_result"
    }
   ],
   "source": [
    "reviews_dict['id'][0]"
   ]
  },
  {
   "cell_type": "code",
   "execution_count": null,
   "metadata": {},
   "outputs": [],
   "source": []
  }
 ],
 "metadata": {
  "kernelspec": {
   "display_name": "Python 3",
   "language": "python",
   "name": "python3"
  },
  "language_info": {
   "codemirror_mode": {
    "name": "ipython",
    "version": 3
   },
   "file_extension": ".py",
   "mimetype": "text/x-python",
   "name": "python",
   "nbconvert_exporter": "python",
   "pygments_lexer": "ipython3",
   "version": "3.7.4"
  }
 },
 "nbformat": 4,
 "nbformat_minor": 4
}
