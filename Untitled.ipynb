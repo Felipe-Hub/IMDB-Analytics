{
 "cells": [
  {
   "cell_type": "code",
   "execution_count": 3,
   "metadata": {},
   "outputs": [],
   "source": [
    "from bs4 import BeautifulSoup\n",
    "import requests\n",
    "\n",
    "import pandas as pd\n",
    "import random\n",
    "import math\n",
    "import time\n",
    "import json\n",
    "import re"
   ]
  },
  {
   "cell_type": "code",
   "execution_count": 8,
   "metadata": {},
   "outputs": [],
   "source": [
    "links = ['https://www.imdb.com/title/tt9619798/?ref_=adv_li_tt','https://www.imdb.com/title/tt8064302/?ref_=adv_li_tt']\n",
    "all_info_dict = []\n",
    "\n",
    "for link in links:\n",
    "\n",
    "    html = requests.get(link, headers={'user-agent': 'Mozilla/5.0'}).content\n",
    "    soup = BeautifulSoup(html, features=\"lxml\")\n",
    "\n",
    "    time.sleep(random.uniform(0.5,1.2))\n",
    "\n",
    "    all_info = soup.find('script', {'type':'application/ld+json'}).text\n",
    "\n",
    "    all_info_dict += [json.loads(all_info)]\n",
    "    "
   ]
  },
  {
   "cell_type": "code",
   "execution_count": 57,
   "metadata": {},
   "outputs": [
    {
     "data": {
      "text/plain": [
       "[15839, 41298]"
      ]
     },
     "execution_count": 57,
     "metadata": {},
     "output_type": "execute_result"
    }
   ],
   "source": [
    "[movie_dc['aggregateRating'][i]['ratingCount']  for i in range(len(movie_dc['aggregateRating']))]"
   ]
  },
  {
   "cell_type": "code",
   "execution_count": 49,
   "metadata": {},
   "outputs": [
    {
     "name": "stdout",
     "output_type": "stream",
     "text": [
      "Checking placement:\n",
      "Found 2 values for director\n",
      "Found 2 values for image\n",
      "Found 2 values for actor\n",
      "Found 2 values for creator\n",
      "Found 2 values for review\n",
      "Found 2 values for description\n",
      "Found 2 values for genre\n",
      "Found 2 values for duration\n",
      "Found 2 values for contentRating\n",
      "Found 2 values for name\n",
      "Found 2 values for url\n",
      "Found 2 values for trailer\n",
      "Found 2 values for datePublished\n",
      "Found 2 values for keywords\n",
      "Found 2 values for aggregateRating\n",
      "Found 2 values for @context\n",
      "Found 2 values for @type\n"
     ]
    }
   ],
   "source": []
  },
  {
   "cell_type": "code",
   "execution_count": 58,
   "metadata": {},
   "outputs": [],
   "source": []
  },
  {
   "cell_type": "code",
   "execution_count": 60,
   "metadata": {},
   "outputs": [
    {
     "data": {
      "text/html": [
       "<div>\n",
       "<style scoped>\n",
       "    .dataframe tbody tr th:only-of-type {\n",
       "        vertical-align: middle;\n",
       "    }\n",
       "\n",
       "    .dataframe tbody tr th {\n",
       "        vertical-align: top;\n",
       "    }\n",
       "\n",
       "    .dataframe thead th {\n",
       "        text-align: right;\n",
       "    }\n",
       "</style>\n",
       "<table border=\"1\" class=\"dataframe\">\n",
       "  <thead>\n",
       "    <tr style=\"text-align: right;\">\n",
       "      <th></th>\n",
       "      <th>id</th>\n",
       "      <th>title</th>\n",
       "      <th>year</th>\n",
       "      <th>type</th>\n",
       "      <th>genre</th>\n",
       "      <th>rating</th>\n",
       "      <th>rating_count</th>\n",
       "      <th>duration</th>\n",
       "      <th>age</th>\n",
       "      <th>keywords</th>\n",
       "      <th>summary</th>\n",
       "    </tr>\n",
       "  </thead>\n",
       "  <tbody>\n",
       "    <tr>\n",
       "      <th>0</th>\n",
       "      <td>9619798</td>\n",
       "      <td>The Wrong Missy</td>\n",
       "      <td>2020-05-13</td>\n",
       "      <td>Movie</td>\n",
       "      <td>[Comedy, Romance]</td>\n",
       "      <td>5.7</td>\n",
       "      <td>15839</td>\n",
       "      <td>PT1H30M</td>\n",
       "      <td>TV-MA</td>\n",
       "      <td>blind date,hawaii,hypnotism,texting wrong pers...</td>\n",
       "      <td>The Wrong Missy is a movie starring David Spad...</td>\n",
       "    </tr>\n",
       "    <tr>\n",
       "      <th>1</th>\n",
       "      <td>8064302</td>\n",
       "      <td>Dead to Me</td>\n",
       "      <td>2019-05-03</td>\n",
       "      <td>TVSeries</td>\n",
       "      <td>[Comedy, Drama]</td>\n",
       "      <td>8.1</td>\n",
       "      <td>41298</td>\n",
       "      <td>None</td>\n",
       "      <td>TV-MA</td>\n",
       "      <td>hit and run,grief,breast cancer,miscarriage,pa...</td>\n",
       "      <td>Dead to Me is a TV series starring Christina A...</td>\n",
       "    </tr>\n",
       "  </tbody>\n",
       "</table>\n",
       "</div>"
      ],
      "text/plain": [
       "        id            title        year      type              genre rating  \\\n",
       "0  9619798  The Wrong Missy  2020-05-13     Movie  [Comedy, Romance]    5.7   \n",
       "1  8064302       Dead to Me  2019-05-03  TVSeries    [Comedy, Drama]    8.1   \n",
       "\n",
       "   rating_count duration    age  \\\n",
       "0         15839  PT1H30M  TV-MA   \n",
       "1         41298     None  TV-MA   \n",
       "\n",
       "                                            keywords  \\\n",
       "0  blind date,hawaii,hypnotism,texting wrong pers...   \n",
       "1  hit and run,grief,breast cancer,miscarriage,pa...   \n",
       "\n",
       "                                             summary  \n",
       "0  The Wrong Missy is a movie starring David Spad...  \n",
       "1  Dead to Me is a TV series starring Christina A...  "
      ]
     },
     "execution_count": 60,
     "metadata": {},
     "output_type": "execute_result"
    }
   ],
   "source": []
  },
  {
   "cell_type": "code",
   "execution_count": null,
   "metadata": {},
   "outputs": [],
   "source": []
  }
 ],
 "metadata": {
  "kernelspec": {
   "display_name": "Python 3",
   "language": "python",
   "name": "python3"
  },
  "language_info": {
   "codemirror_mode": {
    "name": "ipython",
    "version": 3
   },
   "file_extension": ".py",
   "mimetype": "text/x-python",
   "name": "python",
   "nbconvert_exporter": "python",
   "pygments_lexer": "ipython3",
   "version": "3.7.4"
  }
 },
 "nbformat": 4,
 "nbformat_minor": 4
}
