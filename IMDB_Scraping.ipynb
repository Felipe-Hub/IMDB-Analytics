{
 "cells": [
  {
   "cell_type": "markdown",
   "metadata": {
    "colab_type": "text",
    "id": "B46dQlZIkpaW"
   },
   "source": [
    "## Web Scraping\n",
    "\n",
    "This script will scrape content from IMDB, such as:\n",
    "\n"
   ]
  },
  {
   "cell_type": "code",
   "execution_count": 30,
   "metadata": {
    "colab": {
     "base_uri": "https://localhost:8080/",
     "height": 53
    },
    "colab_type": "code",
    "id": "z6rY2RRLkpaX",
    "outputId": "a6dc7fc9-3525-48d2-d2fe-5c11a7f72241"
   },
   "outputs": [],
   "source": [
    "from selenium.webdriver.chrome.options import Options\n",
    "from selenium import webdriver\n",
    "from bs4 import BeautifulSoup\n",
    "import pandas as pd\n",
    "import selenium\n",
    "import requests\n",
    "import random\n",
    "import math\n",
    "import time\n",
    "import json\n",
    "import re\n",
    "\n",
    "options = Options()\n",
    "options.add_argument('--headless')\n",
    "options.add_argument('--disable-gpu')"
   ]
  },
  {
   "cell_type": "code",
   "execution_count": 59,
   "metadata": {
    "colab": {
     "base_uri": "https://localhost:8080/",
     "height": 53
    },
    "colab_type": "code",
    "id": "z6rY2RRLkpaX",
    "outputId": "a6dc7fc9-3525-48d2-d2fe-5c11a7f72241"
   },
   "outputs": [],
   "source": [
    "url = 'https://www.imdb.com/feature/genre'\n",
    "\n",
    "driver = webdriver.Chrome(options=options)\n",
    "\n",
    "driver.get(url)\n",
    "time.sleep(random.uniform(0.6,1.2))\n",
    "genre_links = [i.get_attribute(\"href\") for i in driver.find_elements_by_xpath(\"//div[@class='image']/a\")]\n",
    "driver.close()\n",
    "driver.quit()"
   ]
  },
  {
   "cell_type": "code",
   "execution_count": null,
   "metadata": {
    "colab": {},
    "colab_type": "code",
    "id": "Ikoww4GAkpaZ"
   },
   "outputs": [],
   "source": [
    "# With BS4:\n",
    "# genre_links = [ii.get('href') for i in soup.find_all('div', attrs={'class':'image'}) for ii in i.find_all('a')]"
   ]
  },
  {
   "cell_type": "code",
   "execution_count": 73,
   "metadata": {
    "colab": {},
    "colab_type": "code",
    "id": "Ikoww4GAkpaZ"
   },
   "outputs": [],
   "source": [
    "genres = [re.findall('(?<==)(.+?)(?=&)', i)[0] for i in genre_links]\n",
    "genre_links\n",
    "driver.quit()"
   ]
  },
  {
   "cell_type": "code",
   "execution_count": 76,
   "metadata": {},
   "outputs": [
    {
     "ename": "InvalidSessionIdException",
     "evalue": "Message: invalid session id\n",
     "output_type": "error",
     "traceback": [
      "\u001b[1;31m---------------------------------------------------------------------------\u001b[0m",
      "\u001b[1;31mInvalidSessionIdException\u001b[0m                 Traceback (most recent call last)",
      "\u001b[1;32m<ipython-input-76-669b2558e836>\u001b[0m in \u001b[0;36m<module>\u001b[1;34m\u001b[0m\n\u001b[0;32m      5\u001b[0m \u001b[1;33m\u001b[0m\u001b[0m\n\u001b[0;32m      6\u001b[0m \u001b[1;32mfor\u001b[0m \u001b[0mi\u001b[0m \u001b[1;32min\u001b[0m \u001b[0mrange\u001b[0m\u001b[1;33m(\u001b[0m\u001b[0mlen\u001b[0m\u001b[1;33m(\u001b[0m\u001b[0mgenre_links\u001b[0m\u001b[1;33m[\u001b[0m\u001b[1;33m:\u001b[0m\u001b[1;36m2\u001b[0m\u001b[1;33m]\u001b[0m\u001b[1;33m)\u001b[0m\u001b[1;33m)\u001b[0m\u001b[1;33m:\u001b[0m\u001b[1;33m\u001b[0m\u001b[1;33m\u001b[0m\u001b[0m\n\u001b[1;32m----> 7\u001b[1;33m     \u001b[0mdriver\u001b[0m\u001b[1;33m.\u001b[0m\u001b[0mget\u001b[0m\u001b[1;33m(\u001b[0m\u001b[0mgenre_links\u001b[0m\u001b[1;33m[\u001b[0m\u001b[0mi\u001b[0m\u001b[1;33m]\u001b[0m\u001b[1;33m)\u001b[0m\u001b[1;33m\u001b[0m\u001b[1;33m\u001b[0m\u001b[0m\n\u001b[0m\u001b[0;32m      8\u001b[0m     \u001b[0mtime\u001b[0m\u001b[1;33m.\u001b[0m\u001b[0msleep\u001b[0m\u001b[1;33m(\u001b[0m\u001b[1;36m2\u001b[0m\u001b[1;33m)\u001b[0m\u001b[1;33m\u001b[0m\u001b[1;33m\u001b[0m\u001b[0m\n\u001b[0;32m      9\u001b[0m     \u001b[1;32mwhile\u001b[0m \u001b[0mpg\u001b[0m \u001b[1;33m<=\u001b[0m \u001b[1;36m4\u001b[0m\u001b[1;33m:\u001b[0m\u001b[1;33m\u001b[0m\u001b[1;33m\u001b[0m\u001b[0m\n",
      "\u001b[1;32m~\\Miniconda3\\lib\\site-packages\\selenium\\webdriver\\remote\\webdriver.py\u001b[0m in \u001b[0;36mget\u001b[1;34m(self, url)\u001b[0m\n\u001b[0;32m    331\u001b[0m         \u001b[0mLoads\u001b[0m \u001b[0ma\u001b[0m \u001b[0mweb\u001b[0m \u001b[0mpage\u001b[0m \u001b[1;32min\u001b[0m \u001b[0mthe\u001b[0m \u001b[0mcurrent\u001b[0m \u001b[0mbrowser\u001b[0m \u001b[0msession\u001b[0m\u001b[1;33m.\u001b[0m\u001b[1;33m\u001b[0m\u001b[1;33m\u001b[0m\u001b[0m\n\u001b[0;32m    332\u001b[0m         \"\"\"\n\u001b[1;32m--> 333\u001b[1;33m         \u001b[0mself\u001b[0m\u001b[1;33m.\u001b[0m\u001b[0mexecute\u001b[0m\u001b[1;33m(\u001b[0m\u001b[0mCommand\u001b[0m\u001b[1;33m.\u001b[0m\u001b[0mGET\u001b[0m\u001b[1;33m,\u001b[0m \u001b[1;33m{\u001b[0m\u001b[1;34m'url'\u001b[0m\u001b[1;33m:\u001b[0m \u001b[0murl\u001b[0m\u001b[1;33m}\u001b[0m\u001b[1;33m)\u001b[0m\u001b[1;33m\u001b[0m\u001b[1;33m\u001b[0m\u001b[0m\n\u001b[0m\u001b[0;32m    334\u001b[0m \u001b[1;33m\u001b[0m\u001b[0m\n\u001b[0;32m    335\u001b[0m     \u001b[1;33m@\u001b[0m\u001b[0mproperty\u001b[0m\u001b[1;33m\u001b[0m\u001b[1;33m\u001b[0m\u001b[0m\n",
      "\u001b[1;32m~\\Miniconda3\\lib\\site-packages\\selenium\\webdriver\\remote\\webdriver.py\u001b[0m in \u001b[0;36mexecute\u001b[1;34m(self, driver_command, params)\u001b[0m\n\u001b[0;32m    319\u001b[0m         \u001b[0mresponse\u001b[0m \u001b[1;33m=\u001b[0m \u001b[0mself\u001b[0m\u001b[1;33m.\u001b[0m\u001b[0mcommand_executor\u001b[0m\u001b[1;33m.\u001b[0m\u001b[0mexecute\u001b[0m\u001b[1;33m(\u001b[0m\u001b[0mdriver_command\u001b[0m\u001b[1;33m,\u001b[0m \u001b[0mparams\u001b[0m\u001b[1;33m)\u001b[0m\u001b[1;33m\u001b[0m\u001b[1;33m\u001b[0m\u001b[0m\n\u001b[0;32m    320\u001b[0m         \u001b[1;32mif\u001b[0m \u001b[0mresponse\u001b[0m\u001b[1;33m:\u001b[0m\u001b[1;33m\u001b[0m\u001b[1;33m\u001b[0m\u001b[0m\n\u001b[1;32m--> 321\u001b[1;33m             \u001b[0mself\u001b[0m\u001b[1;33m.\u001b[0m\u001b[0merror_handler\u001b[0m\u001b[1;33m.\u001b[0m\u001b[0mcheck_response\u001b[0m\u001b[1;33m(\u001b[0m\u001b[0mresponse\u001b[0m\u001b[1;33m)\u001b[0m\u001b[1;33m\u001b[0m\u001b[1;33m\u001b[0m\u001b[0m\n\u001b[0m\u001b[0;32m    322\u001b[0m             response['value'] = self._unwrap_value(\n\u001b[0;32m    323\u001b[0m                 response.get('value', None))\n",
      "\u001b[1;32m~\\Miniconda3\\lib\\site-packages\\selenium\\webdriver\\remote\\errorhandler.py\u001b[0m in \u001b[0;36mcheck_response\u001b[1;34m(self, response)\u001b[0m\n\u001b[0;32m    240\u001b[0m                 \u001b[0malert_text\u001b[0m \u001b[1;33m=\u001b[0m \u001b[0mvalue\u001b[0m\u001b[1;33m[\u001b[0m\u001b[1;34m'alert'\u001b[0m\u001b[1;33m]\u001b[0m\u001b[1;33m.\u001b[0m\u001b[0mget\u001b[0m\u001b[1;33m(\u001b[0m\u001b[1;34m'text'\u001b[0m\u001b[1;33m)\u001b[0m\u001b[1;33m\u001b[0m\u001b[1;33m\u001b[0m\u001b[0m\n\u001b[0;32m    241\u001b[0m             \u001b[1;32mraise\u001b[0m \u001b[0mexception_class\u001b[0m\u001b[1;33m(\u001b[0m\u001b[0mmessage\u001b[0m\u001b[1;33m,\u001b[0m \u001b[0mscreen\u001b[0m\u001b[1;33m,\u001b[0m \u001b[0mstacktrace\u001b[0m\u001b[1;33m,\u001b[0m \u001b[0malert_text\u001b[0m\u001b[1;33m)\u001b[0m\u001b[1;33m\u001b[0m\u001b[1;33m\u001b[0m\u001b[0m\n\u001b[1;32m--> 242\u001b[1;33m         \u001b[1;32mraise\u001b[0m \u001b[0mexception_class\u001b[0m\u001b[1;33m(\u001b[0m\u001b[0mmessage\u001b[0m\u001b[1;33m,\u001b[0m \u001b[0mscreen\u001b[0m\u001b[1;33m,\u001b[0m \u001b[0mstacktrace\u001b[0m\u001b[1;33m)\u001b[0m\u001b[1;33m\u001b[0m\u001b[1;33m\u001b[0m\u001b[0m\n\u001b[0m\u001b[0;32m    243\u001b[0m \u001b[1;33m\u001b[0m\u001b[0m\n\u001b[0;32m    244\u001b[0m     \u001b[1;32mdef\u001b[0m \u001b[0m_value_or_default\u001b[0m\u001b[1;33m(\u001b[0m\u001b[0mself\u001b[0m\u001b[1;33m,\u001b[0m \u001b[0mobj\u001b[0m\u001b[1;33m,\u001b[0m \u001b[0mkey\u001b[0m\u001b[1;33m,\u001b[0m \u001b[0mdefault\u001b[0m\u001b[1;33m)\u001b[0m\u001b[1;33m:\u001b[0m\u001b[1;33m\u001b[0m\u001b[1;33m\u001b[0m\u001b[0m\n",
      "\u001b[1;31mInvalidSessionIdException\u001b[0m: Message: invalid session id\n"
     ]
    }
   ],
   "source": [
    "movie_dict = {'title':[], 'year':[], 'genre':[], 'rating':[], 'votes':[], 'length':[], 'age':[], 'summary':[]} \n",
    "movie_links = {k:[] for k in genres}\n",
    "pg = 0\n",
    "driver = webdriver.Chrome(options=options)\n",
    "\n",
    "tst = ['https://www.imdb.com/search/title/?genres=comedy&explore=title_type,genres&pf_rd_m=A2FGELUUNOQJNL&pf_rd_p=3396781f-d87f-4fac-8694-c56ce6f490fe&pf_rd_r=WPKTNYJMKF9SVF0NDP41&pf_rd_s=center-1&pf_rd_t=15051&pf_rd_i=genre&ref_=ft_gnr_pr1_i_1','https://www.imdb.com/search/title/?genres=comedy&genres=Film-Noir&explore=title_type,genres&ref_=adv_explore_rhs']\n",
    "\n",
    "for i in range(len(genre_links)):\n",
    "    driver.get(genre_links[i])\n",
    "    time.sleep(2)\n",
    "    while pg <= 4:\n",
    "        pg += 1\n",
    "        movie_links_per_page = [i.get_attribute(\"href\")\n",
    "                                for i in driver.find_elements_by_xpath(\"//h3[@class='lister-item-header']/a\")]\n",
    "        \n",
    "        movie_links[genres[i]] += movie_links_per_page  \n",
    "        \n",
    "        time.sleep(random.uniform(0.6,1.2))\n",
    "        if driver.find_element_by_link_text('Next »'):\n",
    "            driver.find_element_by_link_text('Next »').click()\n",
    "        else:\n",
    "            print('{} genre movie ended on page {}'.format(movie_links.keys()[i],pg)\n",
    "          \n",
    "    driver.close()\n",
    "driver.quit()   "
   ]
  },
  {
   "cell_type": "code",
   "execution_count": null,
   "metadata": {},
   "outputs": [],
   "source": [
    "movie_links"
   ]
  },
  {
   "cell_type": "code",
   "execution_count": null,
   "metadata": {},
   "outputs": [],
   "source": [
    "    html = requests.get(link, headers={'user-agent': 'Mozilla/5.0'}).content\n",
    "    soup = BeautifulSoup(html, features=\"lxml\")\n",
    "    \n",
    "    title = [ii.text for i in soup.find_all('h3', attrs={'class':'lister-item-header'}) for ii in i.find_all('a')]\n",
    "    year = [i.text for i in soup.find_all('span', attrs={'class':'lister-item-year text-muted unbold'})]\n",
    "    rating = [i.get_text(strip=True) for i in soup.find_all('div', {'class': 'inline-block ratings-imdb-rating'})]\n",
    "    votes = [i.get_text(strip=True) for i in soup.find_all('span', {'name': 'nv'}) if '$' not in i.text]\n",
    "    \n",
    "    txt_lst = [i.get_text(strip=True).split('|') for i in soup.find_all('p', {'class': 'text-muted'})]\n",
    "    summary = [txt_lst[i] for i in range(len(txt_lst)) if i%2!=0]\n",
    "    \n",
    "    \n",
    "    "
   ]
  },
  {
   "cell_type": "code",
   "execution_count": 29,
   "metadata": {},
   "outputs": [
    {
     "data": {
      "text/plain": [
       "(['/title/tt8064302/',\n",
       "  '/title/tt9619798/',\n",
       "  '/title/tt7826376/',\n",
       "  '/title/tt1439629/',\n",
       "  '/title/tt9686708/',\n",
       "  '/title/tt2861424/',\n",
       "  '/title/tt3152592/',\n",
       "  '/title/tt8910922/',\n",
       "  '/title/tt0386676/',\n",
       "  '/title/tt10062292/',\n",
       "  '/title/tt9612516/',\n",
       "  '/title/tt8398600/',\n",
       "  '/title/tt7131622/',\n",
       "  '/title/tt1442437/',\n",
       "  '/title/tt2467372/',\n",
       "  '/title/tt6751668/',\n",
       "  '/title/tt0108778/',\n",
       "  '/title/tt2235759/',\n",
       "  '/title/tt3526078/',\n",
       "  '/title/tt8367814/',\n",
       "  '/title/tt8946378/',\n",
       "  '/title/tt1266020/',\n",
       "  '/title/tt7908628/',\n",
       "  '/title/tt1826940/',\n",
       "  '/title/tt9683478/',\n",
       "  '/title/tt7587890/',\n",
       "  '/title/tt6143796/',\n",
       "  '/title/tt0088763/',\n",
       "  '/title/tt0098904/',\n",
       "  '/title/tt8206668/',\n",
       "  '/title/tt0898266/',\n",
       "  '/title/tt1502397/',\n",
       "  '/title/tt1190634/',\n",
       "  '/title/tt1586680/',\n",
       "  '/title/tt2584384/',\n",
       "  '/title/tt0096697/',\n",
       "  '/title/tt0460649/',\n",
       "  '/title/tt1632701/',\n",
       "  '/title/tt9174582/',\n",
       "  '/title/tt7767422/',\n",
       "  '/title/tt7146812/',\n",
       "  '/title/tt0460627/',\n",
       "  '/title/tt7975244/',\n",
       "  '/title/tt5503686/',\n",
       "  '/title/tt8531222/',\n",
       "  '/title/tt1266036/',\n",
       "  '/title/tt8045468/',\n",
       "  '/title/tt3794354/',\n",
       "  '/title/tt9214832/',\n",
       "  '/title/tt0285403/'],\n",
       " 50)"
      ]
     },
     "execution_count": 29,
     "metadata": {},
     "output_type": "execute_result"
    }
   ],
   "source": [
    "#movie_dict = {'title':[], 'year':[], 'genre':[], 'rating':[], 'length':[], 'age':[], 'summary':[]} \n",
    "\n",
    "url = 'https://www.imdb.com/search/title?genres=comedy&explore=title_type,genres'\n",
    "html = requests.get(url).content\n",
    "soup = BeautifulSoup(html, features=\"lxml\")\n",
    "\n",
    "title = []\n",
    "\n",
    "for i in soup.find_all('h3', attrs={'class':'lister-item-header'}):\n",
    "    for ii in i.find_all('a'):\n",
    "        title.append(ii.get('href'))\n",
    "        \n",
    "title, len(title)"
   ]
  },
  {
   "cell_type": "code",
   "execution_count": null,
   "metadata": {},
   "outputs": [],
   "source": [
    "import re\n",
    "\n",
    "year = []\n",
    "\n",
    "for i in soup.find_all('span', attrs={'class':'lister-item-year text-muted unbold'}):\n",
    "    year.append(i.text)\n",
    "        \n",
    "\n",
    "years = []\n",
    "for i in year:\n",
    "    years = re.findall('\\d*',i)\n",
    "    for ii in years:\n",
    "        new_lst = []\n",
    "        if len(i)>0:\n",
    "            new_lst.append(ii)\n",
    "        years.append(new_lst)\n",
    "\n",
    "\n",
    "\n",
    "years           "
   ]
  },
  {
   "cell_type": "code",
   "execution_count": null,
   "metadata": {},
   "outputs": [],
   "source": [
    "[i.get_text(strip=True) for i in soup.find_all('div', {'class': 'inline-block ratings-imdb-rating'})]"
   ]
  },
  {
   "cell_type": "code",
   "execution_count": 134,
   "metadata": {},
   "outputs": [
    {
     "data": {
      "text/plain": [
       "50"
      ]
     },
     "execution_count": 134,
     "metadata": {},
     "output_type": "execute_result"
    }
   ],
   "source": [
    "[i.get_text(strip=True) for i in soup.find_all('span', {'name': 'nv'}) if '$' not in i.text]"
   ]
  },
  {
   "cell_type": "code",
   "execution_count": 120,
   "metadata": {},
   "outputs": [
    {
     "data": {
      "text/plain": [
       "[['30 min', 'Comedy'],\n",
       " [\"The complicated life of a modern-day first generation Indian American teenage girl, inspired by Mindy Kaling's own childhood.\"],\n",
       " ['30 min', 'Comedy, Drama'],\n",
       " [\"After Tony's wife dies unexpectedly, his nice-guy persona is altered into an impulsive, devil-may-care attitude; taking his old world by storm.\"],\n",
       " ['22 min', 'Comedy'],\n",
       " ['A suspended lawyer is forced to enroll in a community college with an eclectic staff and student body.'],\n",
       " ['108 min', 'Biography, Comedy, Crime'],\n",
       " [\"The beloved superintendent of New York's Roslyn school district and his staff, friends and relatives become the prime suspects in the unfolding of the single largest public school embezzlement scandal in American history.\"],\n",
       " ['22 min', 'Comedy'],\n",
       " ['A mockumentary on a group of typical office workers, where the workday consists of ego clashes, inappropriate behavior, and tedium.'],\n",
       " ['M/16', '113 min', 'Action, Comedy, Crime'],\n",
       " ['An American expat tries to sell off his highly profitable marijuana empire in London, triggering plots, schemes, bribery and blackmail in an attempt to steal his domain out from under him.'],\n",
       " ['22 min', 'Comedy, Crime'],\n",
       " [\"Captain Ray Holt takes over Brooklyn's 99th precinct, which includes Detective Jake Peralta, a talented but carefree detective who's used to doing whatever he wants. The other employees of ...See full summary»\"],\n",
       " ['M/16', '161 min', 'Comedy, Drama'],\n",
       " [\"A faded television actor and his stunt double strive to achieve fame and success in the film industry during the final years of Hollywood's Golden Age in 1969 Los Angeles.\"],\n",
       " ['PG', '90 min', 'Animation, Adventure, Comedy'],\n",
       " [\"Convinced they'd be better off raising themselves, the Willoughby children hatch a sneaky plan to send their selfish parents on vacation. The siblings then embark on their own high-flying adventure to find the true meaning of family.\"],\n",
       " ['M/14', '132 min', 'Comedy, Drama, Thriller'],\n",
       " ['Greed and class discrimination threaten the newly formed symbiotic relationship between the wealthy Park family and the destitute Kim clan.'],\n",
       " ['30 min', 'Comedy, Mystery, Sci-Fi'],\n",
       " ['A man is able to choose his own afterlife after his untimely death.'],\n",
       " ['Animation, Adventure, Comedy'],\n",
       " ['Clancy, a spacecaster with a malfunctioning multiverse simulator who leaves the comfort of his home to interview beings living in dying worlds.'],\n",
       " ['22 min', 'Comedy'],\n",
       " [\"The absurd antics of an Indiana town's public officials as they pursue sundry projects to make their city a better place.\"],\n",
       " ['M/12', '22 min', 'Comedy, Romance'],\n",
       " ['Follows the personal and professional lives of six twenty to thirty-something-year-old friends living in Manhattan.'],\n",
       " ['22 min', 'Comedy'],\n",
       " [\"When rich video-store magnate Johnny Rose and his family suddenly find themselves broke, they are forced to leave their pampered lives to regroup in Schitt's Creek.\"],\n",
       " ['M/12', '131 min', 'Comedy, Crime, Drama'],\n",
       " ['A detective investigates the death of a patriarch of an eccentric, combative family.'],\n",
       " ['M/14', '124 min', 'Action, Comedy, Crime'],\n",
       " ['Miami detectives Mike Lowrey and Marcus Burnett must face off against a mother-and-son pair of drug lords who wreak vengeful havoc on their city.'],\n",
       " ['PG', '90 min', 'Animation, Adventure, Comedy'],\n",
       " ['When the Queen of the Hard Rock Trolls tries to take over all the Troll kingdoms, Queen Poppy and her friends try different ways to save all the Trolls.'],\n",
       " ['M/6', '114 min', 'Adventure, Comedy, Family'],\n",
       " [\"A group of young misfits called The Goonies discover an ancient map and set out on an adventure to find a legendary pirate's long-lost treasure.\"],\n",
       " ['12AP', '22 min', 'Comedy, Romance'],\n",
       " ['A woman who moves into an apartment across the hall from two brilliant but socially awkward physicists shows them how little they know about life outside of the laboratory.'],\n",
       " ['30 min', 'Comedy, Fantasy, Horror'],\n",
       " [\"A look into the daily (or rather, nightly) lives of three vampires, who've lived together for over 100 years, on Staten Island.\"],\n",
       " ['43 min', 'Comedy, Crime, Drama'],\n",
       " [\"Starting over isn't easy, especially for John Nolan who, after a life-altering incident, is pursuing his dream of joining the LAPD. As their oldest rookie, he's met with skepticism from those who see him as just a walking midlife crisis.\"],\n",
       " ['23 min', 'Animation, Adventure, Comedy'],\n",
       " ['An animated series that follows the exploits of a super scientist and his not-so-bright grandson.'],\n",
       " ['M/14', '110 min', 'Comedy, Crime, Drama'],\n",
       " ['Inspired by the viral New York Magazine article, Hustlers follows a crew of savvy former strip club employees who band together to turn the tables on their Wall Street clients.'],\n",
       " ['44 min', 'Comedy, Crime, Mystery'],\n",
       " ['A novice sleuth is hired by the Police after he cons them into thinking he has psychic powers which help solve crimes. With the assistance of his reluctant best friend, the duo take on a series of complicated cases.'],\n",
       " ['46 min', 'Comedy, Drama'],\n",
       " ['A scrappy, feisty, fiercely loyal Chicago family makes no apologies.'],\n",
       " ['44 min', 'Comedy, Drama'],\n",
       " [\"On the run from a drug deal gone bad, brilliant college dropout Mike Ross, finds himself working with Harvey Specter, one of New York City's best lawyers.\"],\n",
       " ['60 min', 'Comedy, Drama, Musical'],\n",
       " ['A young woman discovers she has the ability to hear the innermost thoughts of people around her as songs and musical numbers.'],\n",
       " ['M/12', '108 min', 'Comedy, Drama, War'],\n",
       " [\"A young boy in Hitler's army finds out his mother is hiding a Jewish girl in their home.\"],\n",
       " ['40 min', 'Comedy, Romance'],\n",
       " [\"In 1990s Turkey, a group of teenage outcasts band together to make their beloved teacher fall in love so she'll have a reason to stay in town with them.\"],\n",
       " ['M/6', '102 min', 'Animation, Adventure, Comedy'],\n",
       " ['Two elven brothers embark on a quest to bring their father back for one day.'],\n",
       " ['22 min', 'Comedy, Romance'],\n",
       " ['A father recounts to his children - through a series of flashbacks - the journey he and his four best friends took leading up to him meeting their mother.'],\n",
       " ['60 min', 'Action, Comedy, Crime'],\n",
       " ['A group of vigilantes set out to take down corrupt superheroes who abuse their superpowers.'],\n",
       " ['12AP', '22 min', 'Animation, Comedy'],\n",
       " ['The satiric adventures of a working-class family in the misfit city of Springfield.'],\n",
       " ['M/12', '123 min', 'Action, Adventure, Comedy'],\n",
       " [\"In Jumanji: The Next Level, the gang is back but the game has changed. As they return to rescue one of their own, the players will have to brave parts unknown from arid deserts to snowy mountains, to escape the world's most dangerous game.\"],\n",
       " ['45 min', 'Comedy, Drama'],\n",
       " ['A teenage boy with a sex therapist mother teams up with a high school classmate to set up an underground sex therapy clinic at school.'],\n",
       " ['12AP', '22 min', 'Comedy, Drama, Romance'],\n",
       " ['Three different but related families face trials and tribulations in their own uniquely comedic ways.'],\n",
       " ['M/6', '99 min', 'Action, Adventure, Comedy'],\n",
       " ['After discovering a small, blue, fast hedgehog, a small-town police officer must help him defeat an evil genius who wants to do experiments on him.'],\n",
       " ['30 min', 'Comedy'],\n",
       " [\"A neurotic mid 20's suburbanite's convinced he's destined to be one of the greatest rappers of all time. Now he's got to prove it to everyone else.\"],\n",
       " ['Comedy, Romance, Thriller'],\n",
       " ['Two ex-lovers activate a long-planned escape to disappear together.'],\n",
       " ['43 min', 'Comedy, Crime, Drama'],\n",
       " ['Three suburban mothers suddenly find themselves in desperate circumstances and decide to stop playing it safe and risk everything to take their power back.'],\n",
       " ['45 min', 'Comedy, Drama, Romance'],\n",
       " ['A heartwarming and emotional story about a unique set of triplets, their struggles and their wonderful parents.'],\n",
       " ['PG-13', '104 min', 'Comedy, Romance'],\n",
       " [\"When smart but cash-strapped teen Ellie Chu agrees to write a love letter for a jock, she doesn't expect to become his friend - or fall for his crush.\"],\n",
       " ['40 min', 'Comedy, Crime, Drama'],\n",
       " ['Forensic anthropologist Dr. Temperance \"Bones\" Brennan and cocky F.B.I. Special Agent Seeley Booth build a team to investigate murders. Quite often, there isn\\'t more to examine than rotten flesh or mere bones.'],\n",
       " ['M/6', '101 min', 'Adventure, Comedy, Family'],\n",
       " ['A physician who can talk to animals embarks on an adventure to find a legendary island with a young apprentice and a crew of strange pets.'],\n",
       " ['22 min', 'Comedy, Drama'],\n",
       " ['In the unreal world of Sacred Heart Hospital, intern John \"J.D.\" Dorian learns the ways of medicine, friendship, and life.'],\n",
       " ['36 min', 'Comedy'],\n",
       " ['A father takes an irreverent and honest approach to parenting and relationships.'],\n",
       " ['M/12', '114 min', 'Action, Adventure, Comedy'],\n",
       " ['The Men in Black have always protected the Earth from the scum of the universe. In this new adventure, they tackle their biggest threat to date: a mole in the Men in Black organization.'],\n",
       " ['22 min', 'Comedy'],\n",
       " ['Five friends with big egos and slightly arrogant attitudes are the proprietors of an Irish pub in Philadelphia.'],\n",
       " ['22 min', 'Comedy'],\n",
       " ['After a bad break-up, Jess, an offbeat young woman, moves into an apartment loft with three single men. Although they find her behavior very unusual, the men support her - most of the time.']]"
      ]
     },
     "execution_count": 120,
     "metadata": {},
     "output_type": "execute_result"
    }
   ],
   "source": [
    "txt_lst = []\n",
    "\n",
    "for i in soup.find_all('p', {'class': 'text-muted'}):\n",
    "    txt_lst.append(i.get_text(strip=True).split('|'))\n",
    "    \n",
    "txt_lst"
   ]
  },
  {
   "cell_type": "code",
   "execution_count": 119,
   "metadata": {},
   "outputs": [
    {
     "data": {
      "text/plain": [
       "50"
      ]
     },
     "execution_count": 119,
     "metadata": {},
     "output_type": "execute_result"
    }
   ],
   "source": [
    "summary = []\n",
    "\n",
    "for i in range(len(txt_lst)):\n",
    "    if i%2!=0:\n",
    "        summary.append(txt_lst[i])\n",
    "        \n",
    "len(summary)"
   ]
  },
  {
   "cell_type": "code",
   "execution_count": null,
   "metadata": {},
   "outputs": [],
   "source": [
    "age_time_genre = [txt_lst[i] for i in range(len(txt_lst)) if i%2==0]\n",
    "\n",
    "age = []\n",
    "time = [i for i in ]\n",
    "genre = age_time_genre[-1]\n"
   ]
  }
 ],
 "metadata": {
  "colab": {
   "name": "WebScraping.ipynb",
   "provenance": []
  },
  "kernelspec": {
   "display_name": "Python 3",
   "language": "python",
   "name": "python3"
  },
  "language_info": {
   "codemirror_mode": {
    "name": "ipython",
    "version": 3
   },
   "file_extension": ".py",
   "mimetype": "text/x-python",
   "name": "python",
   "nbconvert_exporter": "python",
   "pygments_lexer": "ipython3",
   "version": "3.7.4"
  },
  "toc": {
   "base_numbering": 1,
   "nav_menu": {},
   "number_sections": false,
   "sideBar": false,
   "skip_h1_title": false,
   "title_cell": "Table of Contents",
   "title_sidebar": "Contents",
   "toc_cell": false,
   "toc_position": {},
   "toc_section_display": false,
   "toc_window_display": false
  }
 },
 "nbformat": 4,
 "nbformat_minor": 1
}
