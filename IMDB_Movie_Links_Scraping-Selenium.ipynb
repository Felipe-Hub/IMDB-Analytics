{
 "cells": [
  {
   "cell_type": "markdown",
   "metadata": {
    "colab_type": "text",
    "id": "B46dQlZIkpaW"
   },
   "source": [
    "## Web Scraping\n",
    "\n",
    "This script will scrape content from IMDB, such as:\n",
    "\n"
   ]
  },
  {
   "cell_type": "code",
   "execution_count": 1,
   "metadata": {
    "colab": {
     "base_uri": "https://localhost:8080/",
     "height": 53
    },
    "colab_type": "code",
    "id": "z6rY2RRLkpaX",
    "outputId": "a6dc7fc9-3525-48d2-d2fe-5c11a7f72241"
   },
   "outputs": [],
   "source": [
    "from selenium.webdriver.chrome.options import Options\n",
    "from selenium import webdriver\n",
    "import selenium\n",
    "\n",
    "import random\n",
    "import time\n",
    "import json\n",
    "import re\n",
    "\n",
    "options = Options()\n",
    "options.add_argument('--headless')\n",
    "options.add_argument('--disable-gpu')"
   ]
  },
  {
   "cell_type": "code",
   "execution_count": 2,
   "metadata": {
    "colab": {
     "base_uri": "https://localhost:8080/",
     "height": 53
    },
    "colab_type": "code",
    "id": "z6rY2RRLkpaX",
    "outputId": "a6dc7fc9-3525-48d2-d2fe-5c11a7f72241"
   },
   "outputs": [],
   "source": [
    "def get_movie_links(genre_links, total_pages):\n",
    "    '''\n",
    "    This function will get the movie links per page in each of the respective genre.\n",
    "\n",
    "    :params: genre_links: list of genre links in 'https://www.imdb.com/feature/genre'.\n",
    "             total_pages: int indicating number of pages to scrape in each genre.\n",
    "\n",
    "    :return: dictionary with keys as genre and list of each movie links as values.\n",
    "    '''\n",
    "    # Separate genre name from links\n",
    "    genres = [re.findall('(?<==)(.+?)(?=&)', i)[0] for i in genre_links]\n",
    "    \n",
    "    # Creates dictionary to return\n",
    "    movie_links = {k:[] for k in genres}\n",
    "    \n",
    "    # Start driver\n",
    "    driver = webdriver.Chrome(options=options)\n",
    "    \n",
    "    # Loops through genre_links\n",
    "    for i in range(len(genre_links)):\n",
    "        driver.get(genre_links[i])\n",
    "        time.sleep(2)\n",
    "        print('Scraping', genres[i])\n",
    "        \n",
    "        # Loops through desired number of pages in each genre\n",
    "        for page in total_pages:\n",
    "            movie_links_per_page = [i.get_attribute(\"href\")\n",
    "                                    for i in driver.find_elements_by_xpath(\"//h3[@class='lister-item-header']/a\")]\n",
    "\n",
    "            movie_links[genres[i]] += movie_links_per_page  \n",
    "\n",
    "            time.sleep(random.uniform(0.3,0.6))\n",
    "\n",
    "            next_page = driver.find_elements_by_xpath(\"//a[@class='lister-page-next next-page']\")\n",
    "\n",
    "            time.sleep(random.uniform(0.3,0.6))\n",
    "\n",
    "            if len(next_page) > 0:\n",
    "\n",
    "                try:\n",
    "                    next_page[0].click()\n",
    "\n",
    "                except:\n",
    "                    print('Page {} of genre {} did not work!'.format(page+1, genres[i]))\n",
    "\n",
    "            else:\n",
    "                print('{} genre movie ended on page {}'.format(list(movie_links.keys())[i],page+1))\n",
    "                driver.close()\n",
    "                break\n",
    "\n",
    "    driver.quit() \n",
    "    \n",
    "    return movie_links"
   ]
  },
  {
   "cell_type": "code",
   "execution_count": 3,
   "metadata": {
    "colab": {
     "base_uri": "https://localhost:8080/",
     "height": 53
    },
    "colab_type": "code",
    "id": "z6rY2RRLkpaX",
    "outputId": "a6dc7fc9-3525-48d2-d2fe-5c11a7f72241"
   },
   "outputs": [],
   "source": [
    "url = 'https://www.imdb.com/feature/genre'\n",
    "\n",
    "driver = webdriver.Chrome(options=options)\n",
    "\n",
    "driver.get(url)\n",
    "time.sleep(random.uniform(0.6,1.2))\n",
    "\n",
    "# get links to genre clustered movies\n",
    "genre_links = [i.get_attribute(\"href\") for i in driver.find_elements_by_xpath(\"//div[@class='image']/a\")]\n",
    "\n",
    "driver.quit()"
   ]
  },
  {
   "cell_type": "code",
   "execution_count": 9,
   "metadata": {
    "scrolled": false
   },
   "outputs": [
    {
     "name": "stdout",
     "output_type": "stream",
     "text": [
      "Scraping comedy\n",
      "Scraping sci-fi\n",
      "Scraping horror\n",
      "Scraping romance\n",
      "Scraping action\n",
      "Scraping thriller\n",
      "Scraping drama\n",
      "Scraping mystery\n",
      "Scraping crime\n",
      "Scraping animation\n",
      "Scraping adventure\n",
      "Scraping fantasy\n",
      "Scraping comedy,romance\n",
      "Scraping action,comedy\n"
     ]
    }
   ],
   "source": [
    "# Set number of pages you want to get movies from each genre\n",
    "total_pages = range(200)\n",
    "\n",
    "# Scrape each movie link, except superheros\n",
    "# movie_links = get_movie_links(genre_links[:-1], total_pages)"
   ]
  },
  {
   "cell_type": "code",
   "execution_count": 13,
   "metadata": {},
   "outputs": [],
   "source": [
    "# Saving to file\n",
    "#with open('movie_links', 'w') as outfile:\n",
    "#    json.dump(movie_links, outfile)"
   ]
  },
  {
   "cell_type": "code",
   "execution_count": 18,
   "metadata": {},
   "outputs": [],
   "source": [
    "# Load movie_links\n",
    "\n",
    "with open('movie_links.json', 'r') as file:\n",
    "    movie_links = json.load(file)"
   ]
  },
  {
   "cell_type": "code",
   "execution_count": 19,
   "metadata": {},
   "outputs": [
    {
     "name": "stdout",
     "output_type": "stream",
     "text": [
      "We scraped the following amount of links for each genre:\n",
      "comedy: 10000\n",
      "sci-fi: 10000\n",
      "horror: 10000\n",
      "romance: 10000\n",
      "action: 10000\n",
      "thriller: 10000\n",
      "drama: 10000\n",
      "mystery: 10000\n",
      "crime: 10000\n",
      "animation: 10000\n",
      "adventure: 10000\n",
      "fantasy: 10000\n",
      "comedy,romance: 10000\n",
      "action,comedy: 10000\n"
     ]
    }
   ],
   "source": [
    "print('We scraped the following amount of links for each genre:')\n",
    "\n",
    "for genre, links in movie_links.items():\n",
    "    print('{}: {}'.format(genre,len(links)))"
   ]
  }
 ],
 "metadata": {
  "colab": {
   "name": "WebScraping.ipynb",
   "provenance": []
  },
  "kernelspec": {
   "display_name": "Python 3",
   "language": "python",
   "name": "python3"
  },
  "language_info": {
   "codemirror_mode": {
    "name": "ipython",
    "version": 3
   },
   "file_extension": ".py",
   "mimetype": "text/x-python",
   "name": "python",
   "nbconvert_exporter": "python",
   "pygments_lexer": "ipython3",
   "version": "3.7.4"
  },
  "toc": {
   "base_numbering": 1,
   "nav_menu": {},
   "number_sections": false,
   "sideBar": false,
   "skip_h1_title": false,
   "title_cell": "Table of Contents",
   "title_sidebar": "Contents",
   "toc_cell": false,
   "toc_position": {},
   "toc_section_display": false,
   "toc_window_display": false
  }
 },
 "nbformat": 4,
 "nbformat_minor": 1
}
